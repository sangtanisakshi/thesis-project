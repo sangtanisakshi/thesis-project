{
 "cells": [
  {
   "cell_type": "code",
   "execution_count": 1,
   "metadata": {},
   "outputs": [],
   "source": [
    "import pandas as pd\n",
    "import numpy as np\n",
    "import pickle\n",
    "import json\n",
    "import sys\n",
    "sys.path.append('..')"
   ]
  },
  {
   "cell_type": "markdown",
   "metadata": {},
   "source": [
    "### Load Best Model"
   ]
  },
  {
   "cell_type": "code",
   "execution_count": 2,
   "metadata": {},
   "outputs": [],
   "source": [
    "ctgan_best = pickle.load(open('../research/best_models/ctgan_best_model/pklmodel.pkl', 'rb'))"
   ]
  },
  {
   "cell_type": "markdown",
   "metadata": {},
   "source": [
    "### Conditional Sampling"
   ]
  },
  {
   "cell_type": "code",
   "execution_count": 3,
   "metadata": {},
   "outputs": [],
   "source": [
    "train_data = pd.read_csv('../thesisgan/input/new_train_data.csv')"
   ]
  },
  {
   "cell_type": "code",
   "execution_count": 4,
   "metadata": {},
   "outputs": [],
   "source": [
    "test_data = pd.read_csv(\"../thesisgan/input/new_hpo_data.csv\")"
   ]
  },
  {
   "cell_type": "code",
   "execution_count": 5,
   "metadata": {},
   "outputs": [],
   "source": [
    "og_data_train_sized = ctgan_best.sample(train_data.shape[0])"
   ]
  },
  {
   "cell_type": "code",
   "execution_count": 6,
   "metadata": {},
   "outputs": [],
   "source": [
    "np.random.seed(123)"
   ]
  },
  {
   "cell_type": "code",
   "execution_count": 35,
   "metadata": {},
   "outputs": [
    {
     "data": {
      "text/plain": [
       "232866.4"
      ]
     },
     "execution_count": 35,
     "metadata": {},
     "output_type": "execute_result"
    }
   ],
   "source": [
    "train_data.shape[0]/5"
   ]
  },
  {
   "cell_type": "code",
   "execution_count": 36,
   "metadata": {},
   "outputs": [],
   "source": [
    "more_pingScan = ctgan_best.sample(train_data.shape[0]*3, \"attack_type\", \"pingScan\")\n",
    "more_bruteForce = ctgan_best.sample(train_data.shape[0]*3, \"attack_type\", \"bruteForce\")\n",
    "more_portScan = ctgan_best.sample(train_data.shape[0]*2, \"attack_type\", \"portScan\")"
   ]
  },
  {
   "cell_type": "code",
   "execution_count": 37,
   "metadata": {},
   "outputs": [],
   "source": [
    "np.random.seed(42)\n",
    "more_pingScan2 = ctgan_best.sample(train_data.shape[0]*3, \"attack_type\", \"pingScan\")\n",
    "more_bruteForce2 = ctgan_best.sample(train_data.shape[0]*3, \"attack_type\", \"bruteForce\")"
   ]
  },
  {
   "cell_type": "code",
   "execution_count": 14,
   "metadata": {},
   "outputs": [],
   "source": [
    "np.random.seed(23)\n",
    "more_pingScan3 = ctgan_best.sample(train_data.shape[0]*3, \"attack_type\", \"pingScan\")\n",
    "more_portScan2 = ctgan_best.sample(train_data.shape[0]*3, \"attack_type\", \"portScan\")\n",
    "more_bruteForce3 = ctgan_best.sample(train_data.shape[0]*3, \"attack_type\", \"bruteForce\")"
   ]
  },
  {
   "cell_type": "code",
   "execution_count": 9,
   "metadata": {},
   "outputs": [
    {
     "data": {
      "text/plain": [
       "(attack_type\n",
       " benign        0.800843\n",
       " dos           0.187692\n",
       " portScan      0.010761\n",
       " bruteForce    0.000573\n",
       " pingScan      0.000131\n",
       " Name: count, dtype: float64,\n",
       " attack_type\n",
       " benign        0.696588\n",
       " dos           0.213108\n",
       " portScan      0.056355\n",
       " pingScan      0.018299\n",
       " bruteForce    0.015650\n",
       " Name: count, dtype: float64)"
      ]
     },
     "execution_count": 9,
     "metadata": {},
     "output_type": "execute_result"
    }
   ],
   "source": [
    "train_data.attack_type.value_counts()/train_data.shape[0], og_data_train_sized.attack_type.value_counts()/og_data_train_sized.shape[0]"
   ]
  },
  {
   "cell_type": "code",
   "execution_count": 10,
   "metadata": {},
   "outputs": [
    {
     "data": {
      "text/plain": [
       "(attack_type\n",
       " benign        0.784121\n",
       " dos           0.174666\n",
       " portScan      0.027110\n",
       " bruteForce    0.008447\n",
       " pingScan      0.005656\n",
       " Name: count, dtype: float64,\n",
       " attack_type\n",
       " benign        0.784084\n",
       " dos           0.174329\n",
       " portScan      0.027425\n",
       " bruteForce    0.008460\n",
       " pingScan      0.005702\n",
       " Name: count, dtype: float64,\n",
       " attack_type\n",
       " benign        0.784749\n",
       " dos           0.173855\n",
       " portScan      0.027289\n",
       " bruteForce    0.008538\n",
       " pingScan      0.005569\n",
       " Name: count, dtype: float64)"
      ]
     },
     "execution_count": 10,
     "metadata": {},
     "output_type": "execute_result"
    }
   ],
   "source": [
    "(more_pingScan.attack_type.value_counts()/more_pingScan.shape[0], more_bruteForce.attack_type.value_counts()/more_bruteForce.shape[0], more_portScan.attack_type.value_counts()/more_portScan.shape[0])"
   ]
  },
  {
   "cell_type": "code",
   "execution_count": 43,
   "metadata": {},
   "outputs": [
    {
     "name": "stdout",
     "output_type": "stream",
     "text": [
      "132031 Sampled more pingScan\n",
      "152023 Sampled more pingScan\n",
      "171834 Sampled more pingScan\n",
      "191881 Sampled more pingScan\n",
      "211778 Sampled more pingScan\n",
      "231631 Sampled more pingScan\n",
      "251585 Sampled more pingScan\n"
     ]
    }
   ],
   "source": [
    "# get every attack type to be atleast 1/5th of the train data shape, otherwise sample more conditional on attack type until it is\n",
    "more_data = pd.concat([more_pingScan, more_bruteForce, more_portScan, more_pingScan2, more_bruteForce2, more_pingScan3, more_portScan2, more_bruteForce3])\n",
    "for attack_type in train_data.attack_type.unique():\n",
    "    while more_data.attack_type.value_counts()[attack_type] < train_data.shape[0]/5:\n",
    "        more_data = pd.concat([more_data, ctgan_best.sample(train_data.shape[0]*3, \"attack_type\", attack_type)])\n",
    "        print(more_data.attack_type.value_counts()[attack_type], \"Sampled more\", attack_type)\n"
   ]
  },
  {
   "cell_type": "code",
   "execution_count": 44,
   "metadata": {},
   "outputs": [
    {
     "data": {
      "text/plain": [
       "attack_type\n",
       "benign        34689165\n",
       "dos            7718185\n",
       "portScan       1205730\n",
       "bruteForce      379951\n",
       "pingScan        251585\n",
       "Name: count, dtype: int64"
      ]
     },
     "execution_count": 44,
     "metadata": {},
     "output_type": "execute_result"
    }
   ],
   "source": [
    "more_data.attack_type.value_counts()"
   ]
  },
  {
   "cell_type": "code",
   "execution_count": 45,
   "metadata": {},
   "outputs": [
    {
     "name": "stdout",
     "output_type": "stream",
     "text": [
      "Fully duplicated data 0\n"
     ]
    },
    {
     "data": {
      "text/plain": [
       "attack_type\n",
       "benign        34689165\n",
       "dos            7718185\n",
       "portScan       1205730\n",
       "bruteForce      379951\n",
       "pingScan        251585\n",
       "Name: count, dtype: int64"
      ]
     },
     "execution_count": 45,
     "metadata": {},
     "output_type": "execute_result"
    }
   ],
   "source": [
    "more_data.reset_index(drop=True, inplace=True)\n",
    "print(\"Fully duplicated data\", more_data.duplicated().sum())\n",
    "more_data.drop_duplicates(inplace=True)\n",
    "\n",
    "more_data.attack_type.value_counts()"
   ]
  },
  {
   "cell_type": "code",
   "execution_count": 46,
   "metadata": {},
   "outputs": [],
   "source": [
    "equally_distributed_data = pd.DataFrame()\n",
    "for attack in more_data.attack_type.unique():\n",
    "    attack_data = more_data[more_data.attack_type == attack]\n",
    "    attack_data = attack_data.sample(train_data.shape[0]//5, replace=True)\n",
    "    equally_distributed_data = pd.concat([equally_distributed_data, attack_data])"
   ]
  },
  {
   "cell_type": "code",
   "execution_count": 47,
   "metadata": {},
   "outputs": [
    {
     "data": {
      "text/plain": [
       "(attack_type\n",
       " benign        232866\n",
       " dos           232866\n",
       " bruteForce    232866\n",
       " portScan      232866\n",
       " pingScan      232866\n",
       " Name: count, dtype: int64,\n",
       " (1164330, 14))"
      ]
     },
     "execution_count": 47,
     "metadata": {},
     "output_type": "execute_result"
    }
   ],
   "source": [
    "equally_distributed_data.reset_index(drop=True, inplace=True)\n",
    "equally_distributed_data.attack_type.value_counts(), equally_distributed_data.shape"
   ]
  },
  {
   "cell_type": "code",
   "execution_count": 48,
   "metadata": {},
   "outputs": [],
   "source": [
    "equally_distributed_data.to_csv(\"../thesisgan/input/ctgan_equally_distributed_data.csv\", index=False)"
   ]
  },
  {
   "cell_type": "markdown",
   "metadata": {},
   "source": [
    "### Equal Distribution of Label Type"
   ]
  },
  {
   "cell_type": "code",
   "execution_count": 22,
   "metadata": {},
   "outputs": [],
   "source": [
    "label_model = pickle.load(open('../research/best_models/ctgan_bc_model/pklmodel.pkl', 'rb'))"
   ]
  },
  {
   "cell_type": "code",
   "execution_count": 25,
   "metadata": {},
   "outputs": [],
   "source": [
    "label_og_syn = pd.read_csv(\"../research/best_models/ctgan_bc_model/syn.csv\")"
   ]
  },
  {
   "cell_type": "code",
   "execution_count": 26,
   "metadata": {},
   "outputs": [
    {
     "data": {
      "text/plain": [
       "(label\n",
       " normal      932447\n",
       " attacker    118252\n",
       " victim      113633\n",
       " Name: count, dtype: int64,\n",
       " label\n",
       " normal    831487\n",
       " attack    332845\n",
       " Name: count, dtype: int64)"
      ]
     },
     "execution_count": 26,
     "metadata": {},
     "output_type": "execute_result"
    }
   ],
   "source": [
    "train_data.label.value_counts(), label_og_syn.label.value_counts()"
   ]
  },
  {
   "cell_type": "code",
   "execution_count": 27,
   "metadata": {},
   "outputs": [],
   "source": [
    "more_attack1 =  label_model.sample(train_data.shape[0], \"label\", \"attack\")\n",
    "more_attack2 =  label_model.sample(train_data.shape[0], \"label\", \"attack\")\n",
    "more_attack3 =  label_model.sample(train_data.shape[0], \"label\", \"attack\")\n",
    "more_attack4 =  label_model.sample(train_data.shape[0], \"label\", \"attack\")\n",
    "more_attack5 =  label_model.sample(train_data.shape[0], \"label\", \"attack\")"
   ]
  },
  {
   "cell_type": "code",
   "execution_count": 29,
   "metadata": {},
   "outputs": [
    {
     "data": {
      "text/plain": [
       "(label\n",
       " normal    4511814\n",
       " attack    1309846\n",
       " Name: count, dtype: int64,\n",
       " (5821660, 14))"
      ]
     },
     "execution_count": 29,
     "metadata": {},
     "output_type": "execute_result"
    }
   ],
   "source": [
    "more_attacks = pd.concat([more_attack1, more_attack2, more_attack3, more_attack4, more_attack5])\n",
    "more_attacks.reset_index(drop=True, inplace=True)\n",
    "more_attacks.label.value_counts(), more_attacks.shape"
   ]
  },
  {
   "cell_type": "code",
   "execution_count": 31,
   "metadata": {},
   "outputs": [],
   "source": [
    "# get equally distributed labels from more_attacks with the size of train.shape[0]\n",
    "equally_distributed_labels = pd.DataFrame()\n",
    "for label in more_attacks.label.unique():\n",
    "    label_data = more_attacks[more_attacks.label == label]\n",
    "    label_data = label_data.sample(train_data.shape[0]//2)\n",
    "    equally_distributed_labels = pd.concat([equally_distributed_labels, label_data])"
   ]
  },
  {
   "cell_type": "code",
   "execution_count": 34,
   "metadata": {},
   "outputs": [
    {
     "data": {
      "text/plain": [
       "(label\n",
       " normal    582166\n",
       " attack    582166\n",
       " Name: count, dtype: int64,\n",
       " (1164332, 14))"
      ]
     },
     "execution_count": 34,
     "metadata": {},
     "output_type": "execute_result"
    }
   ],
   "source": [
    "equally_distributed_labels.reset_index(drop=True, inplace=True)\n",
    "equally_distributed_labels.label.value_counts(), equally_distributed_labels.shape"
   ]
  },
  {
   "cell_type": "code",
   "execution_count": 49,
   "metadata": {},
   "outputs": [],
   "source": [
    "equally_distributed_labels.to_csv(\"../thesisgan/input/ctgan_equally_distributed_labels.csv\", index=False)"
   ]
  },
  {
   "cell_type": "markdown",
   "metadata": {},
   "source": [
    "### Get Utility Metrics"
   ]
  },
  {
   "cell_type": "code",
   "execution_count": 31,
   "metadata": {},
   "outputs": [],
   "source": [
    "from ctabganplus.model.evaluation import get_utility_metrics"
   ]
  },
  {
   "cell_type": "code",
   "execution_count": 33,
   "metadata": {},
   "outputs": [],
   "source": [
    "from sklearn.preprocessing import LabelEncoder"
   ]
  },
  {
   "cell_type": "code",
   "execution_count": 34,
   "metadata": {},
   "outputs": [],
   "source": [
    "le_dict = {\"attack_type\": \"le_attack_type\", \"label\": \"le_label\", \"proto\": \"le_proto\", \"tos\": \"le_tos\"}\n",
    "for c in le_dict.keys():\n",
    "    le_dict[c] = LabelEncoder()\n",
    "    test_data[c] = le_dict[c].fit_transform(test_data[c])\n",
    "    train_data[c] = le_dict[c].fit_transform(train_data[c])\n",
    "    og_data_train_sized[c] = le_dict[c].fit_transform(og_data_train_sized[c])\n",
    "    equally_distributed_data[c] = le_dict[c].fit_transform(equally_distributed_data[c])"
   ]
  },
  {
   "cell_type": "code",
   "execution_count": 18,
   "metadata": {},
   "outputs": [
    {
     "name": "stdout",
     "output_type": "stream",
     "text": [
      "Model:  xgb trained on real data\n",
      "Model:  lr trained on real data\n",
      "Model:  dt trained on real data\n",
      "Model:  rf trained on real data\n",
      "Model:  mlp trained on real data\n",
      "Model:  xgb trained on fake data\n",
      "Model:  lr trained on fake data\n",
      "Model:  dt trained on fake data\n",
      "Model:  rf trained on fake data\n",
      "Model:  mlp trained on fake data\n"
     ]
    }
   ],
   "source": [
    "result_df_og, cr_og = get_utility_metrics(train_data, test_data, equally_distributed_data, scaler=\"MinMax\",type={\"Classification\":[\"xgb\",\"lr\",\"dt\",\"rf\",\"mlp\"]})"
   ]
  },
  {
   "cell_type": "markdown",
   "metadata": {},
   "source": [
    "### Evaluate the Results on original synthetic data"
   ]
  },
  {
   "cell_type": "code",
   "execution_count": 19,
   "metadata": {},
   "outputs": [
    {
     "data": {
      "text/html": [
       "<div>\n",
       "<style scoped>\n",
       "    .dataframe tbody tr th:only-of-type {\n",
       "        vertical-align: middle;\n",
       "    }\n",
       "\n",
       "    .dataframe tbody tr th {\n",
       "        vertical-align: top;\n",
       "    }\n",
       "\n",
       "    .dataframe thead th {\n",
       "        text-align: right;\n",
       "    }\n",
       "</style>\n",
       "<table border=\"1\" class=\"dataframe\">\n",
       "  <thead>\n",
       "    <tr style=\"text-align: right;\">\n",
       "      <th></th>\n",
       "      <th>Acc</th>\n",
       "      <th>AUC</th>\n",
       "      <th>F1_Score</th>\n",
       "      <th>SE_Acc</th>\n",
       "      <th>SE_AUC</th>\n",
       "      <th>SE_F1</th>\n",
       "    </tr>\n",
       "    <tr>\n",
       "      <th>Type</th>\n",
       "      <th></th>\n",
       "      <th></th>\n",
       "      <th></th>\n",
       "      <th></th>\n",
       "      <th></th>\n",
       "      <th></th>\n",
       "    </tr>\n",
       "  </thead>\n",
       "  <tbody>\n",
       "    <tr>\n",
       "      <th>Real</th>\n",
       "      <td>78.355651</td>\n",
       "      <td>0.905179</td>\n",
       "      <td>0.621752</td>\n",
       "      <td>0.069955</td>\n",
       "      <td>0.000491</td>\n",
       "      <td>0.000794</td>\n",
       "    </tr>\n",
       "    <tr>\n",
       "      <th>Fake</th>\n",
       "      <td>65.749300</td>\n",
       "      <td>0.853937</td>\n",
       "      <td>0.615947</td>\n",
       "      <td>0.083446</td>\n",
       "      <td>0.000600</td>\n",
       "      <td>0.000842</td>\n",
       "    </tr>\n",
       "    <tr>\n",
       "      <th>Difference</th>\n",
       "      <td>12.606351</td>\n",
       "      <td>0.051242</td>\n",
       "      <td>0.005805</td>\n",
       "      <td>-0.013491</td>\n",
       "      <td>-0.000109</td>\n",
       "      <td>-0.000047</td>\n",
       "    </tr>\n",
       "  </tbody>\n",
       "</table>\n",
       "</div>"
      ],
      "text/plain": [
       "                  Acc       AUC  F1_Score    SE_Acc    SE_AUC     SE_F1\n",
       "Type                                                                   \n",
       "Real        78.355651  0.905179  0.621752  0.069955  0.000491  0.000794\n",
       "Fake        65.749300  0.853937  0.615947  0.083446  0.000600  0.000842\n",
       "Difference  12.606351  0.051242  0.005805 -0.013491 -0.000109 -0.000047"
      ]
     },
     "execution_count": 19,
     "metadata": {},
     "output_type": "execute_result"
    }
   ],
   "source": [
    "result_df_og.drop([\"Model\"],axis=1).groupby([\"Type\"]).mean().sort_values(by=\"F1_Score\", ascending=False).head(100)"
   ]
  },
  {
   "cell_type": "code",
   "execution_count": 28,
   "metadata": {},
   "outputs": [
    {
     "data": {
      "text/html": [
       "<div>\n",
       "<style scoped>\n",
       "    .dataframe tbody tr th:only-of-type {\n",
       "        vertical-align: middle;\n",
       "    }\n",
       "\n",
       "    .dataframe tbody tr th {\n",
       "        vertical-align: top;\n",
       "    }\n",
       "\n",
       "    .dataframe thead th {\n",
       "        text-align: right;\n",
       "    }\n",
       "</style>\n",
       "<table border=\"1\" class=\"dataframe\">\n",
       "  <thead>\n",
       "    <tr style=\"text-align: right;\">\n",
       "      <th></th>\n",
       "      <th>Acc</th>\n",
       "      <th>AUC</th>\n",
       "      <th>F1_Score</th>\n",
       "      <th>SE_Acc</th>\n",
       "      <th>SE_AUC</th>\n",
       "      <th>SE_F1</th>\n",
       "    </tr>\n",
       "    <tr>\n",
       "      <th>Type</th>\n",
       "      <th></th>\n",
       "      <th></th>\n",
       "      <th></th>\n",
       "      <th></th>\n",
       "      <th></th>\n",
       "      <th></th>\n",
       "    </tr>\n",
       "  </thead>\n",
       "  <tbody>\n",
       "    <tr>\n",
       "      <th>Fake</th>\n",
       "      <td>63.757337</td>\n",
       "      <td>0.817991</td>\n",
       "      <td>0.577510</td>\n",
       "      <td>0.083182</td>\n",
       "      <td>0.000653</td>\n",
       "      <td>0.000856</td>\n",
       "    </tr>\n",
       "    <tr>\n",
       "      <th>Real</th>\n",
       "      <td>76.384667</td>\n",
       "      <td>0.887451</td>\n",
       "      <td>0.573676</td>\n",
       "      <td>0.072229</td>\n",
       "      <td>0.000526</td>\n",
       "      <td>0.000826</td>\n",
       "    </tr>\n",
       "    <tr>\n",
       "      <th>Difference</th>\n",
       "      <td>12.627329</td>\n",
       "      <td>0.069460</td>\n",
       "      <td>-0.003834</td>\n",
       "      <td>-0.010953</td>\n",
       "      <td>-0.000127</td>\n",
       "      <td>-0.000030</td>\n",
       "    </tr>\n",
       "  </tbody>\n",
       "</table>\n",
       "</div>"
      ],
      "text/plain": [
       "                  Acc       AUC  F1_Score    SE_Acc    SE_AUC     SE_F1\n",
       "Type                                                                   \n",
       "Fake        63.757337  0.817991  0.577510  0.083182  0.000653  0.000856\n",
       "Real        76.384667  0.887451  0.573676  0.072229  0.000526  0.000826\n",
       "Difference  12.627329  0.069460 -0.003834 -0.010953 -0.000127 -0.000030"
      ]
     },
     "execution_count": 28,
     "metadata": {},
     "output_type": "execute_result"
    }
   ],
   "source": [
    "result_df_og_more_samples.drop([\"Model\"],axis=1).groupby([\"Type\"]).mean().sort_values(by=\"F1_Score\", ascending=False).head(100)"
   ]
  },
  {
   "cell_type": "code",
   "execution_count": 16,
   "metadata": {},
   "outputs": [
    {
     "data": {
      "text/html": [
       "<div>\n",
       "<style scoped>\n",
       "    .dataframe tbody tr th:only-of-type {\n",
       "        vertical-align: middle;\n",
       "    }\n",
       "\n",
       "    .dataframe tbody tr th {\n",
       "        vertical-align: top;\n",
       "    }\n",
       "\n",
       "    .dataframe thead th {\n",
       "        text-align: right;\n",
       "    }\n",
       "</style>\n",
       "<table border=\"1\" class=\"dataframe\">\n",
       "  <thead>\n",
       "    <tr style=\"text-align: right;\">\n",
       "      <th></th>\n",
       "      <th>Acc</th>\n",
       "      <th>AUC</th>\n",
       "      <th>F1_Score</th>\n",
       "      <th>SE_Acc</th>\n",
       "      <th>SE_AUC</th>\n",
       "      <th>SE_F1</th>\n",
       "    </tr>\n",
       "    <tr>\n",
       "      <th>Type</th>\n",
       "      <th></th>\n",
       "      <th></th>\n",
       "      <th></th>\n",
       "      <th></th>\n",
       "      <th></th>\n",
       "      <th></th>\n",
       "    </tr>\n",
       "  </thead>\n",
       "  <tbody>\n",
       "    <tr>\n",
       "      <th>Real</th>\n",
       "      <td>81.846016</td>\n",
       "      <td>0.929890</td>\n",
       "      <td>0.649282</td>\n",
       "      <td>0.046142</td>\n",
       "      <td>0.000303</td>\n",
       "      <td>0.000552</td>\n",
       "    </tr>\n",
       "    <tr>\n",
       "      <th>Fake</th>\n",
       "      <td>63.927407</td>\n",
       "      <td>0.852976</td>\n",
       "      <td>0.513370</td>\n",
       "      <td>0.058180</td>\n",
       "      <td>0.000401</td>\n",
       "      <td>0.000578</td>\n",
       "    </tr>\n",
       "    <tr>\n",
       "      <th>Difference</th>\n",
       "      <td>17.918609</td>\n",
       "      <td>0.076913</td>\n",
       "      <td>0.135912</td>\n",
       "      <td>-0.012038</td>\n",
       "      <td>-0.000099</td>\n",
       "      <td>-0.000026</td>\n",
       "    </tr>\n",
       "  </tbody>\n",
       "</table>\n",
       "</div>"
      ],
      "text/plain": [
       "                  Acc       AUC  F1_Score    SE_Acc    SE_AUC     SE_F1\n",
       "Type                                                                   \n",
       "Real        81.846016  0.929890  0.649282  0.046142  0.000303  0.000552\n",
       "Fake        63.927407  0.852976  0.513370  0.058180  0.000401  0.000578\n",
       "Difference  17.918609  0.076913  0.135912 -0.012038 -0.000099 -0.000026"
      ]
     },
     "execution_count": 16,
     "metadata": {},
     "output_type": "execute_result"
    }
   ],
   "source": [
    "result_df.drop([\"Model\"],axis=1).groupby([\"Type\"]).mean().sort_values(by=\"F1_Score\", ascending=False).head(100)"
   ]
  },
  {
   "cell_type": "markdown",
   "metadata": {},
   "source": [
    "### Oversampling the 2 underrepresented classes"
   ]
  },
  {
   "cell_type": "code",
   "execution_count": 17,
   "metadata": {},
   "outputs": [],
   "source": [
    "cs_pingScan = ctgan_best.sample(train_data.shape[0], \"attack_type\", \"pingScan\")"
   ]
  },
  {
   "cell_type": "code",
   "execution_count": 19,
   "metadata": {},
   "outputs": [
    {
     "data": {
      "text/plain": [
       "(attack_type\n",
       " benign        912590\n",
       " dos           203230\n",
       " portScan       31724\n",
       " bruteForce     10207\n",
       " pingScan        6581\n",
       " Name: count, dtype: int64,\n",
       " attack_type\n",
       " 0    811255\n",
       " 2    247820\n",
       " 4     65741\n",
       " 3     21318\n",
       " 1     18198\n",
       " Name: count, dtype: int64)"
      ]
     },
     "execution_count": 19,
     "metadata": {},
     "output_type": "execute_result"
    }
   ],
   "source": [
    "cs_pingScan.attack_type.value_counts(), conditional_sampling.attack_type.value_counts()"
   ]
  }
 ],
 "metadata": {
  "kernelspec": {
   "display_name": "ctab",
   "language": "python",
   "name": "python3"
  },
  "language_info": {
   "codemirror_mode": {
    "name": "ipython",
    "version": 3
   },
   "file_extension": ".py",
   "mimetype": "text/x-python",
   "name": "python",
   "nbconvert_exporter": "python",
   "pygments_lexer": "ipython3",
   "version": "3.10.13"
  }
 },
 "nbformat": 4,
 "nbformat_minor": 2
}
