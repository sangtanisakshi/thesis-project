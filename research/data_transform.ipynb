{
 "cells": [
  {
   "cell_type": "code",
   "execution_count": 1,
   "metadata": {},
   "outputs": [
    {
     "name": "stdout",
     "output_type": "stream",
     "text": [
      "Using GPU\n",
      "NVIDIA GeForce RTX 3060 Laptop GPU\n"
     ]
    }
   ],
   "source": [
    "import pandas as pd\n",
    "import numpy as np\n",
    "import matplotlib.pyplot as plt\n",
    "import argparse\n",
    "import torch\n",
    "\n",
    "if torch.cuda.is_available():\n",
    "    print(\"Using GPU\")\n",
    "    device = torch.device(\"cuda\")\n",
    "else:\n",
    "    print(\"Using CPU\")\n",
    "    device = torch.device(\"cpu\")\n",
    "\n",
    "print(torch.cuda.get_device_name(0))\n"
   ]
  },
  {
   "cell_type": "code",
   "execution_count": 2,
   "metadata": {},
   "outputs": [],
   "source": [
    "week_1 = \"../data/traffic/OpenStack/CIDDS-001-internal-week1.csv\"\n",
    "week_2 = \"../data/traffic/OpenStack/CIDDS-001-internal-week2.csv\""
   ]
  },
  {
   "cell_type": "code",
   "execution_count": 3,
   "metadata": {},
   "outputs": [
    {
     "name": "stderr",
     "output_type": "stream",
     "text": [
      "C:\\Users\\cupca\\AppData\\Local\\Temp\\ipykernel_26200\\734835057.py:1: DtypeWarning: Columns (8) have mixed types. Specify dtype option on import or set low_memory=False.\n",
      "  week_1 = pd.read_csv(week_1)\n",
      "C:\\Users\\cupca\\AppData\\Local\\Temp\\ipykernel_26200\\734835057.py:2: DtypeWarning: Columns (8) have mixed types. Specify dtype option on import or set low_memory=False.\n",
      "  week_2 = pd.read_csv(week_2)\n"
     ]
    }
   ],
   "source": [
    "week_1 = pd.read_csv(week_1)\n",
    "week_2 = pd.read_csv(week_2)"
   ]
  },
  {
   "cell_type": "code",
   "execution_count": 4,
   "metadata": {},
   "outputs": [],
   "source": [
    "# Rename columns\n",
    "week_1 = week_1.rename(str.lower, axis='columns')\n",
    "week_1 = week_1.rename(str.strip, axis='columns')\n",
    "week_1.rename(columns={\n",
    "            'date first seen': 'date_first_seen', \n",
    "            'src ip addr': 'src_ip_addr',\n",
    "            'src pt': 'src_pt',\n",
    "            'dst ip addr': 'dst_ip_addr',\n",
    "            'dst pt': 'dst_pt',\n",
    "            'attacktype': 'attack_type',\n",
    "            'attackid': 'attack_id',\n",
    "            'attackdescription': 'attack_description',\n",
    "            'class': 'label'\n",
    "        }, inplace=True)\n",
    "\n",
    "week_2 = week_2.rename(str.lower, axis='columns')\n",
    "week_2 = week_2.rename(str.strip, axis='columns')\n",
    "week_2.rename(columns={\n",
    "            'date first seen': 'date_first_seen', \n",
    "            'src ip addr': 'src_ip_addr',\n",
    "            'src pt': 'src_pt',\n",
    "            'dst ip addr': 'dst_ip_addr',\n",
    "            'dst pt': 'dst_pt',\n",
    "            'attacktype': 'attack_type',\n",
    "            'attackid': 'attack_id',\n",
    "            'attackdescription': 'attack_description',\n",
    "            'class': 'label'\n",
    "        }, inplace=True)"
   ]
  },
  {
   "cell_type": "code",
   "execution_count": 5,
   "metadata": {},
   "outputs": [
    {
     "data": {
      "text/plain": [
       "((8451520, 16), (10310733, 16))"
      ]
     },
     "execution_count": 5,
     "metadata": {},
     "output_type": "execute_result"
    }
   ],
   "source": [
    "week_1.shape, week_2.shape"
   ]
  },
  {
   "cell_type": "code",
   "execution_count": 6,
   "metadata": {},
   "outputs": [],
   "source": [
    "def remove_million(val):\n",
    "    \"\"\"\n",
    "    Removes the 'M' or 'K' suffix from a string and converts it to a numeric value.\n",
    "\n",
    "    Args:\n",
    "        val (str or int): The value to be processed. If it is a string, it should contain a suffix 'M' or 'K'.\n",
    "\n",
    "    Returns:\n",
    "        str or int: The processed value. If the input is a string, it is converted to an integer.\n",
    "\n",
    "    Example:\n",
    "        >>> remove_million('1.5 M')\n",
    "        1500000\n",
    "        >>> remove_million('2.3 K')\n",
    "        2300\n",
    "        >>> remove_million(100)\n",
    "        100\n",
    "    \"\"\"\n",
    "    if type(val) is str:                \n",
    "        val = val.strip()\n",
    "        if ' M' in val:                    \n",
    "            val = val.replace('.', '')\n",
    "            val = val.replace(' M', '00000')  \n",
    "        if ' K' in val:                    \n",
    "            val = val.replace('.', '')\n",
    "            val = val.replace(' K', '000')                \n",
    "        return val\n",
    "    elif type(val) is int:\n",
    "        return val"
   ]
  },
  {
   "cell_type": "code",
   "execution_count": 8,
   "metadata": {},
   "outputs": [],
   "source": [
    "def hex_to_tcp_flags(hex_value):\n",
    "    \"\"\"\n",
    "    Converts a hexadecimal value to TCP flags.\n",
    "\n",
    "    Args:\n",
    "    hex_value (str): The hexadecimal value to convert.\n",
    "\n",
    "    Returns:\n",
    "    str: The TCP flags represented as a string.\n",
    "\n",
    "    Example:\n",
    "    >>> hex_to_tcp_flags('0x52')\n",
    "    '.E.A..S.'\n",
    "    \"\"\"\n",
    "    binary_value = bin(int(hex_value, 16))[2:].zfill(8)\n",
    "    flags = ['C', 'E', 'U', 'A', 'P', 'R', 'S', 'F']\n",
    "    tcp_flags = ''.join([flags[i] if bit == '1' else '.' for i, bit in enumerate(binary_value)])\n",
    "    return tcp_flags"
   ]
  },
  {
   "cell_type": "code",
   "execution_count": 9,
   "metadata": {},
   "outputs": [
    {
     "name": "stdout",
     "output_type": "stream",
     "text": [
      "N/A rows after preproc 0\n",
      "N/A rows after preproc 0\n"
     ]
    }
   ],
   "source": [
    "data_dfs = [week_1, week_2]\n",
    "for df in data_dfs:\n",
    "        # Remove million suffix from 'bytes' column\n",
    "    df['bytes'] = df['bytes'].apply(remove_million)\n",
    "    df['bytes'] = pd.to_numeric(df['bytes'], errors='raise', downcast='float')\n",
    "    \n",
    "    # Remove NA and INF values\n",
    "    df.replace([np.inf, -np.inf], np.nan, inplace=True)\n",
    "    print(\"N/A rows after preproc\", df.isna().any(axis=1).sum())\n",
    "    df.dropna(inplace=True)\n",
    "    \n",
    "    # Convert hexadecimal TCP flags to custom format\n",
    "    df[\"flags\"] = df[\"flags\"].apply(lambda x:hex_to_tcp_flags(x) if '0x' in x else x)\n",
    "    df['flags'] = df['flags'].apply(lambda x: '.' * (8 - len(str(x))) + str(x))\n",
    "\n",
    "    # One-hot encode TCP flags\n",
    "    df['flags'] = df['flags'].str.strip()\n",
    "    data_df = df['flags'].apply(func=lambda flag_str: [0 if c == '.' else 1 for c in flag_str]).to_list()\n",
    "    columns_df = ['tcp_con','tcp_ech','tcp_urg', 'tcp_ack', 'tcp_psh', 'tcp_rst', 'tcp_syn', 'tcp_fin']\n",
    "    ohe_flag_data = pd.DataFrame(data=data_df,columns=columns_df,dtype=int)\n",
    "    flags_idx = df.columns.get_loc('flags')\n",
    "    for i, c in enumerate(ohe_flag_data.columns):\n",
    "        df.insert(loc=flags_idx+i, column=c, value=ohe_flag_data[c])\n",
    "\n",
    "    # Preprocess other columns\n",
    "    df[\"proto\"] = df[\"proto\"].str.strip()\n",
    "    df['attack_type'] = df['attack_type'].replace({'---': 'benign'})\n",
    "    df['attack_id'] = df['attack_id'].replace({'---': 0})\n",
    "    df['attack_id'] = df['attack_id'].astype(np.int32)\n",
    "    df['tos'] = df['tos'].astype(np.int32)\n",
    "    df = df[~df['proto'].isin(['IGMP', 'GRE'])]\n",
    "    df.reset_index(drop=True, inplace=True)"
   ]
  },
  {
   "cell_type": "code",
   "execution_count": 9,
   "metadata": {},
   "outputs": [
    {
     "name": "stdout",
     "output_type": "stream",
     "text": [
      "<class 'pandas.core.frame.DataFrame'>\n",
      "RangeIndex: 8451520 entries, 0 to 8451519\n",
      "Data columns (total 24 columns):\n",
      " #   Column              Dtype  \n",
      "---  ------              -----  \n",
      " 0   date_first_seen     object \n",
      " 1   duration            float64\n",
      " 2   proto               object \n",
      " 3   src_ip_addr         object \n",
      " 4   src_pt              int64  \n",
      " 5   dst_ip_addr         object \n",
      " 6   dst_pt              float64\n",
      " 7   packets             int64  \n",
      " 8   bytes               float32\n",
      " 9   flows               int64  \n",
      " 10  tcp_con             int32  \n",
      " 11  tcp_ech             int32  \n",
      " 12  tcp_urg             int32  \n",
      " 13  tcp_ack             int32  \n",
      " 14  tcp_psh             int32  \n",
      " 15  tcp_rst             int32  \n",
      " 16  tcp_syn             int32  \n",
      " 17  tcp_fin             int32  \n",
      " 18  flags               object \n",
      " 19  tos                 int32  \n",
      " 20  label               object \n",
      " 21  attack_type         object \n",
      " 22  attack_id           int32  \n",
      " 23  attack_description  object \n",
      "dtypes: float32(1), float64(2), int32(10), int64(3), object(8)\n",
      "memory usage: 1.2+ GB\n"
     ]
    }
   ],
   "source": [
    "week_1.info()"
   ]
  },
  {
   "cell_type": "code",
   "execution_count": 10,
   "metadata": {},
   "outputs": [
    {
     "name": "stdout",
     "output_type": "stream",
     "text": [
      "<class 'pandas.core.frame.DataFrame'>\n",
      "RangeIndex: 10310733 entries, 0 to 10310732\n",
      "Data columns (total 24 columns):\n",
      " #   Column              Dtype  \n",
      "---  ------              -----  \n",
      " 0   date_first_seen     object \n",
      " 1   duration            float64\n",
      " 2   proto               object \n",
      " 3   src_ip_addr         object \n",
      " 4   src_pt              int64  \n",
      " 5   dst_ip_addr         object \n",
      " 6   dst_pt              float64\n",
      " 7   packets             int64  \n",
      " 8   bytes               float32\n",
      " 9   flows               int64  \n",
      " 10  tcp_con             int32  \n",
      " 11  tcp_ech             int32  \n",
      " 12  tcp_urg             int32  \n",
      " 13  tcp_ack             int32  \n",
      " 14  tcp_psh             int32  \n",
      " 15  tcp_rst             int32  \n",
      " 16  tcp_syn             int32  \n",
      " 17  tcp_fin             int32  \n",
      " 18  flags               object \n",
      " 19  tos                 int32  \n",
      " 20  label               object \n",
      " 21  attack_type         object \n",
      " 22  attack_id           int32  \n",
      " 23  attack_description  object \n",
      "dtypes: float32(1), float64(2), int32(10), int64(3), object(8)\n",
      "memory usage: 1.4+ GB\n"
     ]
    }
   ],
   "source": [
    "week_2.info()"
   ]
  },
  {
   "cell_type": "code",
   "execution_count": 10,
   "metadata": {},
   "outputs": [],
   "source": [
    "for df in data_dfs:\n",
    "    df.drop(columns=['src_ip_addr', 'dst_ip_addr', 'date_first_seen', 'attack_description', 'attack_id', 'flows', 'flags'], inplace=True)"
   ]
  },
  {
   "cell_type": "code",
   "execution_count": 12,
   "metadata": {},
   "outputs": [
    {
     "name": "stdout",
     "output_type": "stream",
     "text": [
      "<class 'pandas.core.frame.DataFrame'>\n",
      "RangeIndex: 8451520 entries, 0 to 8451519\n",
      "Data columns (total 17 columns):\n",
      " #   Column       Dtype  \n",
      "---  ------       -----  \n",
      " 0   duration     float64\n",
      " 1   proto        object \n",
      " 2   src_pt       int64  \n",
      " 3   dst_pt       float64\n",
      " 4   packets      int64  \n",
      " 5   bytes        float32\n",
      " 6   tcp_con      int32  \n",
      " 7   tcp_ech      int32  \n",
      " 8   tcp_urg      int32  \n",
      " 9   tcp_ack      int32  \n",
      " 10  tcp_psh      int32  \n",
      " 11  tcp_rst      int32  \n",
      " 12  tcp_syn      int32  \n",
      " 13  tcp_fin      int32  \n",
      " 14  tos          int32  \n",
      " 15  label        object \n",
      " 16  attack_type  object \n",
      "dtypes: float32(1), float64(2), int32(9), int64(2), object(3)\n",
      "memory usage: 773.8+ MB\n"
     ]
    }
   ],
   "source": [
    "week_1.info()"
   ]
  },
  {
   "cell_type": "code",
   "execution_count": 11,
   "metadata": {},
   "outputs": [],
   "source": [
    "# set float format\n",
    "pd.set_option('display.float_format', lambda x: '%.5f' % x)"
   ]
  },
  {
   "cell_type": "code",
   "execution_count": 12,
   "metadata": {},
   "outputs": [],
   "source": [
    "for df in data_dfs:\n",
    "    #normalize values\n",
    "    df[\"src_pt\"] = df[\"src_pt\"]/df[\"src_pt\"].max()\n",
    "    df[\"dst_pt\"] = df[\"dst_pt\"]/df[\"dst_pt\"].max()\n",
    "    columns_df = ['duration', 'bytes', 'packets']\n",
    "    for c in columns_df:\n",
    "        if c == \"duration\":\n",
    "            df[c] = np.log(df[c]+1)\n",
    "        else:\n",
    "            df[c] = np.log(df[c])\n",
    "        df[c] = (df[c]-df[c].min())/(df[c].max()-df[c].min())"
   ]
  },
  {
   "cell_type": "code",
   "execution_count": 13,
   "metadata": {},
   "outputs": [
    {
     "name": "stdout",
     "output_type": "stream",
     "text": [
      "4037720 fully duplicate rows\n",
      "5078130 fully duplicate rows\n"
     ]
    }
   ],
   "source": [
    "for df in data_dfs:\n",
    "    # remove duplicated rows\n",
    "    dupli = df.duplicated().sum()\n",
    "    if dupli > 0:\n",
    "        print(dupli, \"fully duplicate rows\")\n",
    "        df.drop_duplicates(inplace=True)\n",
    "        df.reset_index(drop=True, inplace=True)"
   ]
  },
  {
   "cell_type": "code",
   "execution_count": 16,
   "metadata": {},
   "outputs": [
    {
     "name": "stdout",
     "output_type": "stream",
     "text": [
      "<class 'pandas.core.frame.DataFrame'>\n",
      "RangeIndex: 4413800 entries, 0 to 4413799\n",
      "Data columns (total 17 columns):\n",
      " #   Column       Dtype  \n",
      "---  ------       -----  \n",
      " 0   duration     float64\n",
      " 1   proto        object \n",
      " 2   src_pt       float64\n",
      " 3   dst_pt       float64\n",
      " 4   packets      float64\n",
      " 5   bytes        float64\n",
      " 6   tcp_con      int32  \n",
      " 7   tcp_ech      int32  \n",
      " 8   tcp_urg      int32  \n",
      " 9   tcp_ack      int32  \n",
      " 10  tcp_psh      int32  \n",
      " 11  tcp_rst      int32  \n",
      " 12  tcp_syn      int32  \n",
      " 13  tcp_fin      int32  \n",
      " 14  tos          int32  \n",
      " 15  label        object \n",
      " 16  attack_type  object \n",
      "dtypes: float64(5), int32(9), object(3)\n",
      "memory usage: 420.9+ MB\n"
     ]
    }
   ],
   "source": [
    "week_1.info()"
   ]
  },
  {
   "cell_type": "code",
   "execution_count": 14,
   "metadata": {},
   "outputs": [
    {
     "data": {
      "text/plain": [
       "((4413800, 17), (5232603, 17))"
      ]
     },
     "execution_count": 14,
     "metadata": {},
     "output_type": "execute_result"
    }
   ],
   "source": [
    "week_1.shape, week_2.shape"
   ]
  },
  {
   "cell_type": "code",
   "execution_count": 15,
   "metadata": {},
   "outputs": [
    {
     "name": "stdout",
     "output_type": "stream",
     "text": [
      "attack_type\n",
      "benign        2671341\n",
      "dos            377956\n",
      "portScan        39278\n",
      "bruteForce        891\n",
      "pingScan          194\n",
      "Name: count, dtype: int64\n",
      "attack_type\n",
      "benign        1144475\n",
      "dos            162518\n",
      "portScan        16672\n",
      "bruteForce        390\n",
      "pingScan           85\n",
      "Name: count, dtype: int64\n"
     ]
    },
    {
     "data": {
      "text/plain": [
       "(None, None)"
      ]
     },
     "execution_count": 15,
     "metadata": {},
     "output_type": "execute_result"
    }
   ],
   "source": [
    "test_1 = week_1.sample(frac=0.7, random_state=42)\n",
    "rest_1 = week_1.drop(test_1.index)\n",
    "print(test_1.attack_type.value_counts()), print(rest_1.attack_type.value_counts())"
   ]
  },
  {
   "cell_type": "code",
   "execution_count": 16,
   "metadata": {},
   "outputs": [
    {
     "name": "stdout",
     "output_type": "stream",
     "text": [
      "attack_type\n",
      "benign        3256454\n",
      "dos            388525\n",
      "portScan        16259\n",
      "bruteForce       1332\n",
      "pingScan          252\n",
      "Name: count, dtype: int64 attack_type\n",
      "benign        1395855\n",
      "dos            166233\n",
      "portScan         7022\n",
      "bruteForce        568\n",
      "pingScan          103\n",
      "Name: count, dtype: int64\n"
     ]
    }
   ],
   "source": [
    "test_2 = week_2.sample(frac=0.7, random_state=42)\n",
    "rest_2 = week_2.drop(test_2.index)\n",
    "print(test_2.attack_type.value_counts(), rest_2.attack_type.value_counts())"
   ]
  },
  {
   "cell_type": "code",
   "execution_count": 26,
   "metadata": {},
   "outputs": [
    {
     "data": {
      "text/plain": [
       "((3089660, 17), (1324140, 17), (3662822, 17), (1569781, 17))"
      ]
     },
     "execution_count": 26,
     "metadata": {},
     "output_type": "execute_result"
    }
   ],
   "source": [
    "test_1.shape, rest_1.shape, test_2.shape, rest_2.shape"
   ]
  },
  {
   "cell_type": "code",
   "execution_count": 17,
   "metadata": {},
   "outputs": [
    {
     "data": {
      "image/png": "[encoded data removed]",
      "text/plain": [
       "<Figure size 2000x1000 with 6 Axes>"
      ]
     },
     "metadata": {},
     "output_type": "display_data"
    },
    {
     "data": {
      "text/plain": [
       "<Figure size 1000x600 with 0 Axes>"
      ]
     },
     "metadata": {},
     "output_type": "display_data"
    }
   ],
   "source": [
    "#plot the distribution of attack types\n",
    "fig, axes = plt.subplots(3, 2, figsize=(20, 10))\n",
    "plt.figure(figsize=(10, 6))\n",
    "axes[0, 0].bar(test_1.attack_type.value_counts().index, np.log10(test_1.attack_type.value_counts().values))\n",
    "axes[0, 0].set_title(\"test_1 set\")\n",
    "axes[0, 1].bar(test_2.attack_type.value_counts().index, np.log10(test_2.attack_type.value_counts().values))\n",
    "axes[0, 1].set_title(\"test_2 set\")\n",
    "axes[1, 0].bar(rest_1.attack_type.value_counts().index, np.log10(rest_2.attack_type.value_counts().values))\n",
    "axes[1, 0].set_title(\"rest_1 set\")\n",
    "axes[1, 1].bar(rest_2.attack_type.value_counts().index, np.log10(rest_2.attack_type.value_counts().values))\n",
    "axes[1, 1].set_title(\"rest_2 set\")\n",
    "axes[2, 0].bar(week_1.attack_type.value_counts().index, np.log10(week_1.attack_type.value_counts().values))\n",
    "axes[2, 0].set_title(\"week_1 set\")\n",
    "axes[2, 1].bar(week_2.attack_type.value_counts().index, np.log10(week_2.attack_type.value_counts().values))\n",
    "axes[2, 1].set_title(\"week_2 set\")\n",
    "plt.show()"
   ]
  },
  {
   "cell_type": "code",
   "execution_count": 22,
   "metadata": {},
   "outputs": [],
   "source": [
    "week_1.reset_index(drop=True, inplace=True)\n",
    "week_2.reset_index(drop=True, inplace=True)"
   ]
  },
  {
   "cell_type": "code",
   "execution_count": 18,
   "metadata": {},
   "outputs": [],
   "source": [
    "data = pd.concat([week_1, week_2])\n",
    "data.reset_index(drop=True, inplace=True)"
   ]
  },
  {
   "cell_type": "code",
   "execution_count": 19,
   "metadata": {},
   "outputs": [],
   "source": [
    "hpo_data = data.sample(frac=0.15, random_state=42)"
   ]
  },
  {
   "cell_type": "code",
   "execution_count": 20,
   "metadata": {},
   "outputs": [
    {
     "data": {
      "text/plain": [
       "attack_type\n",
       "benign       87.78142\n",
       "dos          11.35843\n",
       "portScan      0.82110\n",
       "bruteForce    0.03110\n",
       "pingScan      0.00795\n",
       "Name: count, dtype: float64"
      ]
     },
     "execution_count": 20,
     "metadata": {},
     "output_type": "execute_result"
    }
   ],
   "source": [
    "hpo_data.attack_type.value_counts()*100/hpo_data.attack_type.count()"
   ]
  },
  {
   "cell_type": "code",
   "execution_count": 21,
   "metadata": {},
   "outputs": [],
   "source": [
    "data.drop(hpo_data.index, inplace=True)"
   ]
  },
  {
   "cell_type": "code",
   "execution_count": 22,
   "metadata": {},
   "outputs": [
    {
     "data": {
      "text/plain": [
       "1446960"
      ]
     },
     "execution_count": 22,
     "metadata": {},
     "output_type": "execute_result"
    }
   ],
   "source": [
    "len(hpo_data.index)"
   ]
  },
  {
   "cell_type": "code",
   "execution_count": 23,
   "metadata": {},
   "outputs": [],
   "source": [
    "hpo_data.reset_index(drop=True, inplace=True)\n",
    "data.reset_index(drop=True, inplace=True)"
   ]
  },
  {
   "cell_type": "code",
   "execution_count": 26,
   "metadata": {},
   "outputs": [],
   "source": [
    "train_data = data.sample(frac=0.35, random_state=42)"
   ]
  },
  {
   "cell_type": "code",
   "execution_count": 35,
   "metadata": {},
   "outputs": [],
   "source": [
    "test_data = data.drop(train_data.index).sample(frac=0.20, random_state=42)"
   ]
  },
  {
   "cell_type": "code",
   "execution_count": 44,
   "metadata": {},
   "outputs": [],
   "source": [
    "hpo_data.to_csv(\"../thesisgan/input/hpo_data.csv\", index=False)\n",
    "train_data.to_csv(\"../thesisgan/input/train_data.csv\", index=False)\n",
    "test_data.to_csv(\"../thesisgan/input/test_data.csv\", index=False)"
   ]
  }
 ],
 "metadata": {
  "kernelspec": {
   "display_name": "thesis",
   "language": "python",
   "name": "python3"
  },
  "language_info": {
   "codemirror_mode": {
    "name": "ipython",
    "version": 3
   },
   "file_extension": ".py",
   "mimetype": "text/x-python",
   "name": "python",
   "nbconvert_exporter": "python",
   "pygments_lexer": "ipython3",
   "version": "3.10.13"
  },
  "orig_nbformat": 4,
  "vscode": {
   "interpreter": {
    "hash": "6b304a34d7fd43cfffee68940e96273fdbf0885d8aeb3134e5c151237ca973ec"
   }
  }
 },
 "nbformat": 4,
 "nbformat_minor": 2
}
