{
 "cells": [
  {
   "cell_type": "code",
   "execution_count": 1,
   "metadata": {},
   "outputs": [],
   "source": [
    "import pandas as pd\n",
    "import numpy as np\n",
    "import pickle\n",
    "import json\n",
    "import sys\n",
    "sys.path.append('.')"
   ]
  },
  {
   "cell_type": "markdown",
   "metadata": {},
   "source": [
    "### Load Best Model"
   ]
  },
  {
   "cell_type": "code",
   "execution_count": 2,
   "metadata": {},
   "outputs": [],
   "source": [
    "ctabgan_best = pickle.load(open('../research/best_models/ctabgan_best_model/pklmodel.pkl', 'rb'))"
   ]
  },
  {
   "cell_type": "markdown",
   "metadata": {},
   "source": [
    "### Conditional Sampling"
   ]
  },
  {
   "cell_type": "code",
   "execution_count": 3,
   "metadata": {},
   "outputs": [],
   "source": [
    "train_data = pd.read_csv('../thesisgan/input/new_train_data.csv')\n",
    "hpo_data = pd.read_csv(\"../thesisgan/input/new_hpo_data.csv\")\n",
    "test_data = pd.read_csv(\"../thesisgan/input/new_test_data.csv\")"
   ]
  },
  {
   "cell_type": "code",
   "execution_count": 4,
   "metadata": {},
   "outputs": [],
   "source": [
    "og_syn_data = pd.read_csv(\"../research/best_models/ctabgan_best_model/syn.csv\")"
   ]
  },
  {
   "cell_type": "markdown",
   "metadata": {},
   "source": [
    "#### Get ML Utility Functions"
   ]
  },
  {
   "cell_type": "code",
   "execution_count": 5,
   "metadata": {},
   "outputs": [],
   "source": [
    "from model.evaluation import get_utility_metrics\n",
    "from sklearn.preprocessing import LabelEncoder\n",
    "from model.data_preparation import DataPrep"
   ]
  },
  {
   "cell_type": "code",
   "execution_count": 6,
   "metadata": {},
   "outputs": [],
   "source": [
    "data_prep = DataPrep(train_data, ['proto', 'tcp_ack', 'tcp_psh', 'tcp_rst', 'tcp_syn', 'tcp_fin', 'tos', 'label', 'attack_type'], \n",
    "                     [], {}, [], ['packets', 'src_pt', 'dst_pt', 'duration', 'bytes'], [],\n",
    "                     {\"Classification\": 'attack_type'}, 0.00003)"
   ]
  },
  {
   "cell_type": "code",
   "execution_count": 7,
   "metadata": {},
   "outputs": [
    {
     "name": "stdout",
     "output_type": "stream",
     "text": [
      "Sampled 274777 invalid samples. Have 890223 samples. Want 1164332 samples.\n",
      "Sampled 64784 invalid samples. Have 1100439 samples. Want 1164332 samples.\n",
      "Time taken: 14.450546741485596 seconds\n",
      "Sampled 15189 invalid samples. Have 1150250 samples. Want 1164332 samples.\n",
      "Time taken: 3.3146631717681885 seconds\n",
      "Sampled 3763 invalid samples. Have 1162487 samples. Want 1164332 samples.\n",
      "Time taken: 0.9744999408721924 seconds\n",
      "Sampled 943 invalid samples. Have 1165544 samples. Want 1164332 samples.\n",
      "Time taken: 0.22710895538330078 seconds\n"
     ]
    }
   ],
   "source": [
    "more_samples = ctabgan_best.sample(train_data.shape[0])\n",
    "og_more_samples = data_prep.inverse_prep(more_samples)"
   ]
  },
  {
   "cell_type": "markdown",
   "metadata": {},
   "source": [
    "### Evaluate the Results"
   ]
  },
  {
   "cell_type": "markdown",
   "metadata": {},
   "source": [
    "#### Original Results - train data, hpo data, fake data size of hpo data"
   ]
  },
  {
   "cell_type": "code",
   "execution_count": 8,
   "metadata": {},
   "outputs": [],
   "source": [
    "import json\n",
    "with open('../research/best_models/ctabgan_best_model/table/Classification Results_305_46aa8d602dd61325aed1.table.json') as f:\n",
    "    og_cr = json.load(f)"
   ]
  },
  {
   "cell_type": "code",
   "execution_count": 9,
   "metadata": {},
   "outputs": [],
   "source": [
    "le_dict = {\"attack_type\": \"le_attack_type\", \"label\": \"le_label\", \"proto\": \"le_proto\", \"tos\": \"le_tos\"}\n",
    "for c in le_dict.keys():\n",
    "    le_dict[c] = LabelEncoder()\n",
    "    test_data[c] = le_dict[c].fit_transform(test_data[c])\n",
    "    train_data[c] = le_dict[c].fit_transform(train_data[c])\n",
    "    hpo_data[c] = le_dict[c].fit_transform(hpo_data[c])\n",
    "    og_syn_data[c] = le_dict[c].fit_transform(og_syn_data[c])\n",
    "    og_more_samples[c] = le_dict[c].fit_transform(og_more_samples[c])"
   ]
  },
  {
   "cell_type": "code",
   "execution_count": 13,
   "metadata": {},
   "outputs": [],
   "source": [
    "og_cr = pd.DataFrame(data=og_cr[\"data\"], columns=og_cr[\"columns\"])"
   ]
  },
  {
   "cell_type": "code",
   "execution_count": 10,
   "metadata": {},
   "outputs": [
    {
     "data": {
      "text/html": [
       "<div>\n",
       "<style scoped>\n",
       "    .dataframe tbody tr th:only-of-type {\n",
       "        vertical-align: middle;\n",
       "    }\n",
       "\n",
       "    .dataframe tbody tr th {\n",
       "        vertical-align: top;\n",
       "    }\n",
       "\n",
       "    .dataframe thead th {\n",
       "        text-align: right;\n",
       "    }\n",
       "</style>\n",
       "<table border=\"1\" class=\"dataframe\">\n",
       "  <thead>\n",
       "    <tr style=\"text-align: right;\">\n",
       "      <th></th>\n",
       "      <th>Acc</th>\n",
       "      <th>AUC</th>\n",
       "      <th>F1_Score</th>\n",
       "    </tr>\n",
       "    <tr>\n",
       "      <th>Type</th>\n",
       "      <th></th>\n",
       "      <th></th>\n",
       "      <th></th>\n",
       "    </tr>\n",
       "  </thead>\n",
       "  <tbody>\n",
       "    <tr>\n",
       "      <th>Real</th>\n",
       "      <td>78.035474</td>\n",
       "      <td>0.891350</td>\n",
       "      <td>0.584898</td>\n",
       "    </tr>\n",
       "    <tr>\n",
       "      <th>Fake</th>\n",
       "      <td>52.619821</td>\n",
       "      <td>0.832858</td>\n",
       "      <td>0.495669</td>\n",
       "    </tr>\n",
       "    <tr>\n",
       "      <th>Difference</th>\n",
       "      <td>25.415653</td>\n",
       "      <td>0.058492</td>\n",
       "      <td>0.089229</td>\n",
       "    </tr>\n",
       "  </tbody>\n",
       "</table>\n",
       "</div>"
      ],
      "text/plain": [
       "                  Acc       AUC  F1_Score\n",
       "Type                                     \n",
       "Real        78.035474  0.891350  0.584898\n",
       "Fake        52.619821  0.832858  0.495669\n",
       "Difference  25.415653  0.058492  0.089229"
      ]
     },
     "execution_count": 10,
     "metadata": {},
     "output_type": "execute_result"
    }
   ],
   "source": [
    "og_cr.drop([\"Model\"],axis=1).groupby([\"Type\"]).mean().sort_values(by=\"F1_Score\", ascending=False).head(100)\n"
   ]
  },
  {
   "cell_type": "markdown",
   "metadata": {},
   "source": [
    "#### Original but more - train data, hpo data, fake data size of train data"
   ]
  },
  {
   "cell_type": "code",
   "execution_count": 26,
   "metadata": {},
   "outputs": [
    {
     "name": "stdout",
     "output_type": "stream",
     "text": [
      "Model:  xgb trained on real data\n",
      "Model:  lr trained on real data\n",
      "Model:  dt trained on real data\n",
      "Model:  rf trained on real data\n",
      "Model:  mlp trained on real data\n",
      "Model:  xgb trained on fake data\n",
      "Model:  lr trained on fake data\n",
      "Model:  dt trained on fake data\n"
     ]
    }
   ],
   "source": [
    "more_samples_results, more_samples_cr = get_utility_metrics(train_data, hpo_data, og_more_samples, scaler=\"MinMax\",type={\"Classification\":[\"xgb\",\"lr\",\"dt\",\"rf\",\"mlp\"]})"
   ]
  }
 ],
 "metadata": {
  "kernelspec": {
   "display_name": "ctab",
   "language": "python",
   "name": "python3"
  },
  "language_info": {
   "codemirror_mode": {
    "name": "ipython",
    "version": 3
   },
   "file_extension": ".py",
   "mimetype": "text/x-python",
   "name": "python",
   "nbconvert_exporter": "python",
   "pygments_lexer": "ipython3",
   "version": "3.10.13"
  }
 },
 "nbformat": 4,
 "nbformat_minor": 2
}
