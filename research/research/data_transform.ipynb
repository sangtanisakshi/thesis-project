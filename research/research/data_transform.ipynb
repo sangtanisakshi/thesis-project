{
 "cells": [
  {
   "cell_type": "code",
   "execution_count": 24,
   "metadata": {},
   "outputs": [
    {
     "name": "stdout",
     "output_type": "stream",
     "text": [
      "Using GPU\n",
      "NVIDIA GeForce RTX 3060 Laptop GPU\n"
     ]
    }
   ],
   "source": [
    "import pandas as pd\n",
    "import numpy as np\n",
    "import matplotlib.pyplot as plt\n",
    "import argparse\n",
    "import torch\n",
    "\n",
    "if torch.cuda.is_available():\n",
    "    print(\"Using GPU\")\n",
    "    device = torch.device(\"cuda\")\n",
    "else:\n",
    "    print(\"Using CPU\")\n",
    "    device = torch.device(\"cpu\")\n",
    "\n",
    "print(torch.cuda.get_device_name(0))\n"
   ]
  },
  {
   "cell_type": "code",
   "execution_count": 25,
   "metadata": {},
   "outputs": [],
   "source": [
    "week_1 = \"../data/traffic/OpenStack/CIDDS-001-internal-week1.csv\"\n",
    "week_2 = \"../data/traffic/OpenStack/CIDDS-001-internal-week2.csv\""
   ]
  },
  {
   "cell_type": "code",
   "execution_count": 26,
   "metadata": {},
   "outputs": [
    {
     "name": "stderr",
     "output_type": "stream",
     "text": [
      "C:\\Users\\cupca\\AppData\\Local\\Temp\\ipykernel_22056\\734835057.py:1: DtypeWarning: Columns (8) have mixed types. Specify dtype option on import or set low_memory=False.\n",
      "  week_1 = pd.read_csv(week_1)\n",
      "C:\\Users\\cupca\\AppData\\Local\\Temp\\ipykernel_22056\\734835057.py:2: DtypeWarning: Columns (8) have mixed types. Specify dtype option on import or set low_memory=False.\n",
      "  week_2 = pd.read_csv(week_2)\n"
     ]
    }
   ],
   "source": [
    "week_1 = pd.read_csv(week_1)\n",
    "week_2 = pd.read_csv(week_2)"
   ]
  },
  {
   "cell_type": "code",
   "execution_count": 27,
   "metadata": {},
   "outputs": [],
   "source": [
    "# Rename columns\n",
    "week_1 = week_1.rename(str.lower, axis='columns')\n",
    "week_1 = week_1.rename(str.strip, axis='columns')\n",
    "week_1.rename(columns={\n",
    "            'date first seen': 'date_first_seen', \n",
    "            'src ip addr': 'src_ip_addr',\n",
    "            'src pt': 'src_pt',\n",
    "            'dst ip addr': 'dst_ip_addr',\n",
    "            'dst pt': 'dst_pt',\n",
    "            'attacktype': 'attack_type',\n",
    "            'attackid': 'attack_id',\n",
    "            'attackdescription': 'attack_description',\n",
    "            'class': 'label'\n",
    "        }, inplace=True)\n",
    "\n",
    "week_2 = week_2.rename(str.lower, axis='columns')\n",
    "week_2 = week_2.rename(str.strip, axis='columns')\n",
    "week_2.rename(columns={\n",
    "            'date first seen': 'date_first_seen', \n",
    "            'src ip addr': 'src_ip_addr',\n",
    "            'src pt': 'src_pt',\n",
    "            'dst ip addr': 'dst_ip_addr',\n",
    "            'dst pt': 'dst_pt',\n",
    "            'attacktype': 'attack_type',\n",
    "            'attackid': 'attack_id',\n",
    "            'attackdescription': 'attack_description',\n",
    "            'class': 'label'\n",
    "        }, inplace=True)"
   ]
  },
  {
   "cell_type": "code",
   "execution_count": 28,
   "metadata": {},
   "outputs": [
    {
     "data": {
      "text/plain": [
       "((8451520, 16), (10310733, 16))"
      ]
     },
     "execution_count": 28,
     "metadata": {},
     "output_type": "execute_result"
    }
   ],
   "source": [
    "week_1.shape, week_2.shape"
   ]
  },
  {
   "cell_type": "code",
   "execution_count": 29,
   "metadata": {},
   "outputs": [],
   "source": [
    "def remove_million(val):\n",
    "    \"\"\"\n",
    "    Removes the 'M' or 'K' suffix from a string and converts it to a numeric value.\n",
    "\n",
    "    Args:\n",
    "        val (str or int): The value to be processed. If it is a string, it should contain a suffix 'M' or 'K'.\n",
    "\n",
    "    Returns:\n",
    "        str or int: The processed value. If the input is a string, it is converted to an integer.\n",
    "\n",
    "    Example:\n",
    "        >>> remove_million('1.5 M')\n",
    "        1500000\n",
    "        >>> remove_million('2.3 K')\n",
    "        2300\n",
    "        >>> remove_million(100)\n",
    "        100\n",
    "    \"\"\"\n",
    "    if type(val) is str:                \n",
    "        val = val.strip()\n",
    "        if ' M' in val:                    \n",
    "            val = val.replace('.', '')\n",
    "            val = val.replace(' M', '00000')  \n",
    "        if ' K' in val:                    \n",
    "            val = val.replace('.', '')\n",
    "            val = val.replace(' K', '000')                \n",
    "        return val\n",
    "    elif type(val) is int:\n",
    "        return val"
   ]
  },
  {
   "cell_type": "code",
   "execution_count": 30,
   "metadata": {},
   "outputs": [],
   "source": [
    "def hex_to_tcp_flags(hex_value):\n",
    "    \"\"\"\n",
    "    Converts a hexadecimal value to TCP flags.\n",
    "\n",
    "    Args:\n",
    "    hex_value (str): The hexadecimal value to convert.\n",
    "\n",
    "    Returns:\n",
    "    str: The TCP flags represented as a string.\n",
    "\n",
    "    Example:\n",
    "    >>> hex_to_tcp_flags('0x52')\n",
    "    '.E.A..S.'\n",
    "    \"\"\"\n",
    "    binary_value = bin(int(hex_value, 16))[2:].zfill(8)\n",
    "    flags = ['C', 'E', 'U', 'A', 'P', 'R', 'S', 'F']\n",
    "    tcp_flags = ''.join([flags[i] if bit == '1' else '.' for i, bit in enumerate(binary_value)])\n",
    "    return tcp_flags"
   ]
  },
  {
   "cell_type": "code",
   "execution_count": 31,
   "metadata": {},
   "outputs": [
    {
     "name": "stdout",
     "output_type": "stream",
     "text": [
      "N/A rows after preproc 0\n",
      "N/A rows after preproc 0\n"
     ]
    }
   ],
   "source": [
    "data_dfs = [week_1, week_2]\n",
    "for df in data_dfs:\n",
    "    # Remove million suffix from 'bytes' column\n",
    "    df['bytes'] = df['bytes'].apply(remove_million)\n",
    "    df['bytes'] = pd.to_numeric(df['bytes'], errors='raise', downcast='float')\n",
    "    \n",
    "    # Remove NA and INF values\n",
    "    df.replace([np.inf, -np.inf], np.nan, inplace=True)\n",
    "    print(\"N/A rows after preproc\", df.isna().any(axis=1).sum())\n",
    "    df.dropna(inplace=True)\n",
    "    \n",
    "    # Convert hexadecimal TCP flags to custom format\n",
    "    df[\"flags\"] = df[\"flags\"].apply(lambda x:hex_to_tcp_flags(x) if '0x' in x else x)\n",
    "    df['flags'] = df['flags'].apply(lambda x: '.' * (8 - len(str(x))) + str(x))\n",
    "\n",
    "    # One-hot encode TCP flags\n",
    "    df['flags'] = df['flags'].str.strip()\n",
    "    data_df = df['flags'].apply(func=lambda flag_str: [0 if c == '.' else 1 for c in flag_str]).to_list()\n",
    "    columns_df = ['tcp_con','tcp_ech','tcp_urg', 'tcp_ack', 'tcp_psh', 'tcp_rst', 'tcp_syn', 'tcp_fin']\n",
    "    ohe_flag_data = pd.DataFrame(data=data_df,columns=columns_df,dtype=int)\n",
    "    flags_idx = df.columns.get_loc('flags')\n",
    "    for i, c in enumerate(ohe_flag_data.columns):\n",
    "        df.insert(loc=flags_idx+i, column=c, value=ohe_flag_data[c])\n",
    "\n",
    "    # Preprocess other columns\n",
    "    df[\"proto\"] = df[\"proto\"].str.strip()\n",
    "    df['attack_type'] = df['attack_type'].replace({'---': 'benign'})\n",
    "    df['attack_id'] = df['attack_id'].replace({'---': 0})\n",
    "    df['attack_id'] = df['attack_id'].astype(np.int32)\n",
    "    df['tos'] = df['tos'].astype(np.int32)\n",
    "    df.reset_index(drop=True, inplace=True)"
   ]
  },
  {
   "cell_type": "code",
   "execution_count": 32,
   "metadata": {},
   "outputs": [
    {
     "data": {
      "text/plain": [
       "('2017-03-15 00:01:16.551',\n",
       " '2017-03-21 23:59:58.299',\n",
       " '2017-03-22 00:00:00.070',\n",
       " '2017-03-28 23:58:21.138')"
      ]
     },
     "execution_count": 32,
     "metadata": {},
     "output_type": "execute_result"
    }
   ],
   "source": [
    "week_1.date_first_seen.min(), week_1.date_first_seen.max(), week_2.date_first_seen.min(), week_2.date_first_seen.max()"
   ]
  },
  {
   "cell_type": "code",
   "execution_count": 33,
   "metadata": {},
   "outputs": [],
   "source": [
    "week_1['date_first_seen'] = pd.to_datetime(week_1['date_first_seen'], format='%Y-%m-%d %H:%M:%S.%f')\n",
    "week_2['date_first_seen'] = pd.to_datetime(week_2['date_first_seen'], format='%Y-%m-%d %H:%M:%S.%f')"
   ]
  },
  {
   "cell_type": "code",
   "execution_count": 34,
   "metadata": {},
   "outputs": [],
   "source": [
    "#from week 1 select date range 2:18:05 p.m., 17 March 2017 and 5:42:17 p.m., 20 March 2017\n",
    "week_1 = week_1[(week_1['date_first_seen'] >= '2017-03-17 14:18:05') & (week_1['date_first_seen'] <= '2017-03-20 17:42:17')]"
   ]
  },
  {
   "cell_type": "code",
   "execution_count": 35,
   "metadata": {},
   "outputs": [],
   "source": [
    "data_dfs = [week_1, week_2]"
   ]
  },
  {
   "cell_type": "code",
   "execution_count": 36,
   "metadata": {},
   "outputs": [
    {
     "name": "stdout",
     "output_type": "stream",
     "text": [
      "flows (2535985, 24)\n",
      "tcp_con (2535985, 24)\n",
      "tcp_ech (2535985, 24)\n",
      "tcp_urg (2535985, 24)\n",
      "flows (10310733, 24)\n",
      "tcp_con (10310733, 24)\n",
      "tcp_ech (10310733, 24)\n",
      "tcp_urg (10310733, 24)\n"
     ]
    }
   ],
   "source": [
    "#check if any column has only one unique value\n",
    "for df in data_dfs:\n",
    "    for col in df.columns:\n",
    "        if len(df[col].unique()) == 1:\n",
    "            print(col, df.shape)"
   ]
  },
  {
   "cell_type": "code",
   "execution_count": 37,
   "metadata": {},
   "outputs": [],
   "source": [
    "for df in data_dfs:\n",
    "    df.drop(columns=['src_ip_addr', 'dst_ip_addr', 'tcp_urg', 'tcp_ech', 'tcp_con', 'flows'], inplace=True)"
   ]
  },
  {
   "cell_type": "code",
   "execution_count": 38,
   "metadata": {},
   "outputs": [],
   "source": [
    "for df in data_dfs:\n",
    "    df.drop(columns=['flags', 'attack_id', 'attack_description', 'date_first_seen'], inplace=True)"
   ]
  },
  {
   "cell_type": "code",
   "execution_count": 39,
   "metadata": {},
   "outputs": [],
   "source": [
    "week_1.reset_index(drop=True, inplace=True)"
   ]
  },
  {
   "cell_type": "code",
   "execution_count": 40,
   "metadata": {},
   "outputs": [],
   "source": [
    "#split the week_1 data into train and test to make sure that the test data has all the attack types but also not to shuffle the indexes\n",
    "attack_types = week_1['attack_type'].unique()\n",
    "train_df = pd.DataFrame()\n",
    "test_df = pd.DataFrame()\n",
    "for at in attack_types:\n",
    "    at_df = week_1[week_1['attack_type'] == at]\n",
    "    at_train_df = at_df.iloc[:int(0.8 * at_df.shape[0])]\n",
    "    at_test_df = at_df.iloc[int(0.8 * at_df.shape[0]):]\n",
    "    #at_train_df, at_test_df = train_test_split(at_df, test_size=0.2, shuffle=False)\n",
    "    train_df = pd.concat([train_df, at_train_df])\n",
    "    test_df = pd.concat([test_df, at_test_df])"
   ]
  },
  {
   "cell_type": "code",
   "execution_count": 41,
   "metadata": {},
   "outputs": [
    {
     "name": "stdout",
     "output_type": "stream",
     "text": [
      "proto ['TCP' 'UDP' 'ICMP' 'IGMP'] train_df\n",
      "proto ['TCP' 'UDP' 'ICMP' 'IGMP'] test_df\n",
      "tos [  0  32 192  16] train_df\n",
      "tos [  0  32 192  16] test_df\n",
      "attack_type ['dos' 'benign' 'portScan' 'pingScan' 'bruteForce'] train_df\n",
      "attack_type ['dos' 'benign' 'portScan' 'pingScan' 'bruteForce'] test_df\n",
      "label ['attacker' 'victim' 'normal'] train_df\n",
      "label ['victim' 'attacker' 'normal'] test_df\n",
      "tcp_ack [1 0] train_df\n",
      "tcp_ack [1 0] test_df\n",
      "tcp_fin [1 0] train_df\n",
      "tcp_fin [1 0] test_df\n",
      "tcp_psh [1 0] train_df\n",
      "tcp_psh [0 1] test_df\n",
      "tcp_rst [0 1] train_df\n",
      "tcp_rst [0 1] test_df\n",
      "tcp_syn [1 0] train_df\n",
      "tcp_syn [1 0] test_df\n"
     ]
    }
   ],
   "source": [
    "#print all unique values of the categorical columns\n",
    "cat_cols = ['proto', 'tos', 'attack_type', 'label', 'tcp_ack', 'tcp_fin', 'tcp_psh', 'tcp_rst', 'tcp_syn']\n",
    "for col in cat_cols:\n",
    "    print(col, train_df[col].unique(), \"train_df\")\n",
    "    print(col, test_df[col].unique(), \"test_df\")\n"
   ]
  },
  {
   "cell_type": "code",
   "execution_count": 42,
   "metadata": {},
   "outputs": [],
   "source": [
    "# set float format\n",
    "pd.set_option('display.float_format', lambda x: '%.5f' % x)"
   ]
  },
  {
   "cell_type": "code",
   "execution_count": 43,
   "metadata": {},
   "outputs": [],
   "source": [
    "datasets = [train_df, test_df]"
   ]
  },
  {
   "cell_type": "code",
   "execution_count": 44,
   "metadata": {},
   "outputs": [],
   "source": [
    "for df in datasets:\n",
    "    #normalize values\n",
    "    df[\"src_pt\"] = df[\"src_pt\"]/df[\"src_pt\"].max()\n",
    "    df[\"dst_pt\"] = df[\"dst_pt\"]/df[\"dst_pt\"].max()\n",
    "    columns_df = ['duration', 'bytes', 'packets']\n",
    "    for c in columns_df:\n",
    "        if c == \"duration\":\n",
    "            df[c] = np.log(df[c]+1)\n",
    "        else:\n",
    "            df[c] = np.log(df[c])\n",
    "        df[c] = (df[c]-df[c].min())/(df[c].max()-df[c].min())"
   ]
  },
  {
   "cell_type": "code",
   "execution_count": 45,
   "metadata": {},
   "outputs": [
    {
     "name": "stdout",
     "output_type": "stream",
     "text": [
      "864453 fully duplicate rows\n",
      "179909 fully duplicate rows\n"
     ]
    }
   ],
   "source": [
    "for df in datasets:\n",
    "    # remove duplicated rows\n",
    "    dupli = df.duplicated().sum()\n",
    "    if dupli > 0:\n",
    "        print(dupli, \"fully duplicate rows\")\n",
    "        df.drop_duplicates(inplace=True)\n",
    "        df.reset_index(drop=True, inplace=True)"
   ]
  },
  {
   "cell_type": "markdown",
   "metadata": {},
   "source": [
    "## Check RF stuff"
   ]
  },
  {
   "cell_type": "code",
   "execution_count": 24,
   "metadata": {},
   "outputs": [],
   "source": [
    "import sys\n",
    "sys.path.append('..')\n",
    "\n"
   ]
  },
  {
   "cell_type": "code",
   "execution_count": 25,
   "metadata": {},
   "outputs": [],
   "source": [
    "#train a basic rf classifier on the data\n",
    "from sklearn.ensemble import RandomForestClassifier\n",
    "from sklearn.metrics import classification_report, confusion_matrix, accuracy_score\n",
    "from sklearn.preprocessing import LabelEncoder\n"
   ]
  },
  {
   "cell_type": "code",
   "execution_count": 26,
   "metadata": {},
   "outputs": [],
   "source": [
    "le_dict = {\"attack_type\": \"le_attack_type\", \"label\": \"le_label\", \"proto\": \"le_proto\", \"tos\": \"le_tos\"}\n",
    "for c in le_dict.keys():\n",
    "    le_dict[c] = LabelEncoder()\n",
    "    train_df[c] = le_dict[c].fit_transform(train_df[c])\n",
    "    train_df[c] = train_df[c].astype(\"int64\")\n",
    "    test_df[c] = le_dict[c].fit_transform(test_df[c])\n",
    "    test_df[c] = test_df[c].astype(\"int64\")"
   ]
  },
  {
   "cell_type": "code",
   "execution_count": 37,
   "metadata": {},
   "outputs": [
    {
     "data": {
      "text/html": [
       "<style>#sk-container-id-2 {color: black;}#sk-container-id-2 pre{padding: 0;}#sk-container-id-2 div.sk-toggleable {background-color: white;}#sk-container-id-2 label.sk-toggleable__label {cursor: pointer;display: block;width: 100%;margin-bottom: 0;padding: 0.3em;box-sizing: border-box;text-align: center;}#sk-container-id-2 label.sk-toggleable__label-arrow:before {content: \"▸\";float: left;margin-right: 0.25em;color: #696969;}#sk-container-id-2 label.sk-toggleable__label-arrow:hover:before {color: black;}#sk-container-id-2 div.sk-estimator:hover label.sk-toggleable__label-arrow:before {color: black;}#sk-container-id-2 div.sk-toggleable__content {max-height: 0;max-width: 0;overflow: hidden;text-align: left;background-color: #f0f8ff;}#sk-container-id-2 div.sk-toggleable__content pre {margin: 0.2em;color: black;border-radius: 0.25em;background-color: #f0f8ff;}#sk-container-id-2 input.sk-toggleable__control:checked~div.sk-toggleable__content {max-height: 200px;max-width: 100%;overflow: auto;}#sk-container-id-2 input.sk-toggleable__control:checked~label.sk-toggleable__label-arrow:before {content: \"▾\";}#sk-container-id-2 div.sk-estimator input.sk-toggleable__control:checked~label.sk-toggleable__label {background-color: #d4ebff;}#sk-container-id-2 div.sk-label input.sk-toggleable__control:checked~label.sk-toggleable__label {background-color: #d4ebff;}#sk-container-id-2 input.sk-hidden--visually {border: 0;clip: rect(1px 1px 1px 1px);clip: rect(1px, 1px, 1px, 1px);height: 1px;margin: -1px;overflow: hidden;padding: 0;position: absolute;width: 1px;}#sk-container-id-2 div.sk-estimator {font-family: monospace;background-color: #f0f8ff;border: 1px dotted black;border-radius: 0.25em;box-sizing: border-box;margin-bottom: 0.5em;}#sk-container-id-2 div.sk-estimator:hover {background-color: #d4ebff;}#sk-container-id-2 div.sk-parallel-item::after {content: \"\";width: 100%;border-bottom: 1px solid gray;flex-grow: 1;}#sk-container-id-2 div.sk-label:hover label.sk-toggleable__label {background-color: #d4ebff;}#sk-container-id-2 div.sk-serial::before {content: \"\";position: absolute;border-left: 1px solid gray;box-sizing: border-box;top: 0;bottom: 0;left: 50%;z-index: 0;}#sk-container-id-2 div.sk-serial {display: flex;flex-direction: column;align-items: center;background-color: white;padding-right: 0.2em;padding-left: 0.2em;position: relative;}#sk-container-id-2 div.sk-item {position: relative;z-index: 1;}#sk-container-id-2 div.sk-parallel {display: flex;align-items: stretch;justify-content: center;background-color: white;position: relative;}#sk-container-id-2 div.sk-item::before, #sk-container-id-2 div.sk-parallel-item::before {content: \"\";position: absolute;border-left: 1px solid gray;box-sizing: border-box;top: 0;bottom: 0;left: 50%;z-index: -1;}#sk-container-id-2 div.sk-parallel-item {display: flex;flex-direction: column;z-index: 1;position: relative;background-color: white;}#sk-container-id-2 div.sk-parallel-item:first-child::after {align-self: flex-end;width: 50%;}#sk-container-id-2 div.sk-parallel-item:last-child::after {align-self: flex-start;width: 50%;}#sk-container-id-2 div.sk-parallel-item:only-child::after {width: 0;}#sk-container-id-2 div.sk-dashed-wrapped {border: 1px dashed gray;margin: 0 0.4em 0.5em 0.4em;box-sizing: border-box;padding-bottom: 0.4em;background-color: white;}#sk-container-id-2 div.sk-label label {font-family: monospace;font-weight: bold;display: inline-block;line-height: 1.2em;}#sk-container-id-2 div.sk-label-container {text-align: center;}#sk-container-id-2 div.sk-container {/* jupyter's `normalize.less` sets `[hidden] { display: none; }` but bootstrap.min.css set `[hidden] { display: none !important; }` so we also need the `!important` here to be able to override the default hidden behavior on the sphinx rendered scikit-learn.org. See: https://github.com/scikit-learn/scikit-learn/issues/21755 */display: inline-block !important;position: relative;}#sk-container-id-2 div.sk-text-repr-fallback {display: none;}</style><div id=\"sk-container-id-2\" class=\"sk-top-container\"><div class=\"sk-text-repr-fallback\"><pre>RandomForestClassifier(random_state=42)</pre><b>In a Jupyter environment, please rerun this cell to show the HTML representation or trust the notebook. <br />On GitHub, the HTML representation is unable to render, please try loading this page with nbviewer.org.</b></div><div class=\"sk-container\" hidden><div class=\"sk-item\"><div class=\"sk-estimator sk-toggleable\"><input class=\"sk-toggleable__control sk-hidden--visually\" id=\"sk-estimator-id-2\" type=\"checkbox\" checked><label for=\"sk-estimator-id-2\" class=\"sk-toggleable__label sk-toggleable__label-arrow\">RandomForestClassifier</label><div class=\"sk-toggleable__content\"><pre>RandomForestClassifier(random_state=42)</pre></div></div></div></div></div>"
      ],
      "text/plain": [
       "RandomForestClassifier(random_state=42)"
      ]
     },
     "execution_count": 37,
     "metadata": {},
     "output_type": "execute_result"
    }
   ],
   "source": [
    "# train a random forest classifier on target attack_type\n",
    "rf = RandomForestClassifier(n_estimators=100, random_state=42)\n",
    "rf.fit(train_df.drop(columns=['attack_type', 'label', 'src_pt', 'dst_pt']), train_df['attack_type'])\n"
   ]
  },
  {
   "cell_type": "code",
   "execution_count": 39,
   "metadata": {},
   "outputs": [],
   "source": [
    "predict = rf.predict(test_df.drop(columns=['attack_type', 'label', 'src_pt', 'dst_pt']))"
   ]
  },
  {
   "cell_type": "code",
   "execution_count": 29,
   "metadata": {},
   "outputs": [],
   "source": [
    "from sklearn import metrics"
   ]
  },
  {
   "cell_type": "code",
   "execution_count": 40,
   "metadata": {},
   "outputs": [],
   "source": [
    "pred = rf.predict_proba(test_df.drop(columns=['attack_type', 'label', 'src_pt', 'dst_pt']))\n",
    "acc_weighted = metrics.balanced_accuracy_score(test_df['attack_type'],predict)*100\n",
    "auc_weighted = metrics.roc_auc_score(test_df['attack_type'], pred,average=\"weighted\",multi_class=\"ovo\")\n",
    "f1_score_weighted = metrics.precision_recall_fscore_support(test_df['attack_type'], predict,average=\"weighted\")"
   ]
  },
  {
   "cell_type": "code",
   "execution_count": 7,
   "metadata": {},
   "outputs": [],
   "source": [
    "a = a.split(\"\\n\")\n",
    "a = [x.split() for x in a]\n",
    "a[0] = ['attack_type', 'precision', 'recall', 'f1-score', 'support']\n",
    "a = [x for x in a if x]\n",
    "a = {x[0]:x[1:] for x in a}\n",
    "\n",
    "#if the length of the values is less than 4, add empty strings to the left to make it 4\n",
    "for k,v in a.items():\n",
    "    if len(v) < 4:\n",
    "        a[k] = ['']*(4-len(v)) + v\n",
    "        \n",
    "#if length of the values is more than 4, remove the first value\n",
    "for k,v in a.items():\n",
    "    if len(v) > 4:\n",
    "        a[k] = v[1:]\n",
    "        \n",
    "a = pd.DataFrame(a, columns=a.keys()).transpose()\n",
    "#convert index to a column\n",
    "a.reset_index(inplace=True)\n",
    "a.rename(columns={\"index\":\"attack_type\"}, inplace=True)\n",
    "a.columns = a.iloc[0].str.strip()\n",
    "#remove first row of a\n",
    "a = a[1:]\n",
    "a[\"Model\"] = \"mlp\""
   ]
  },
  {
   "cell_type": "code",
   "execution_count": 170,
   "metadata": {},
   "outputs": [],
   "source": [
    "# get the fale positive rate and true positive rate and precision, recall, everything macro averaged\n",
    "cr = classification_report(test_df['attack_type'], predict, target_names=le_dict['attack_type'].classes_, output_dict=True)"
   ]
  },
  {
   "cell_type": "markdown",
   "metadata": {},
   "source": [
    "## Back to Transform"
   ]
  },
  {
   "cell_type": "code",
   "execution_count": 77,
   "metadata": {},
   "outputs": [],
   "source": [
    "#split the week_1 data into train and test to make sure that the test data has all the attack types but also not to shuffle the indexes\n",
    "attack_types = week_2['attack_type'].unique()\n",
    "hpo_train_df = pd.DataFrame()\n",
    "hpo_test_df = pd.DataFrame()\n",
    "for at in attack_types:\n",
    "    hpo_at_df = week_2[week_2['attack_type'] == at]\n",
    "    hpo_at_train_df = hpo_at_df.iloc[:int(0.95 * hpo_at_df.shape[0])]\n",
    "    hpo_at_test_df = hpo_at_df.iloc[int(0.95 * hpo_at_df.shape[0]):]\n",
    "    hpo_train_df = pd.concat([hpo_train_df, hpo_at_train_df])\n",
    "    hpo_test_df = pd.concat([hpo_test_df, hpo_at_test_df])"
   ]
  },
  {
   "cell_type": "code",
   "execution_count": 78,
   "metadata": {},
   "outputs": [],
   "source": [
    "# remove duplicates from hpo datasets\n",
    "hpo_datasets = [hpo_train_df, hpo_test_df]\n",
    "for df in hpo_datasets:\n",
    "    #normalize values\n",
    "    df[\"src_pt\"] = df[\"src_pt\"]/df[\"src_pt\"].max()\n",
    "    df[\"dst_pt\"] = df[\"dst_pt\"]/df[\"dst_pt\"].max()\n",
    "    columns_df = ['duration', 'bytes', 'packets']\n",
    "    for c in columns_df:\n",
    "        if c == \"duration\":\n",
    "            df[c] = np.log(df[c]+1)\n",
    "        else:\n",
    "            df[c] = np.log(df[c])\n",
    "        df[c] = (df[c]-df[c].min())/(df[c].max()-df[c].min())"
   ]
  },
  {
   "cell_type": "code",
   "execution_count": 79,
   "metadata": {},
   "outputs": [
    {
     "name": "stdout",
     "output_type": "stream",
     "text": [
      "4792072 fully duplicate rows\n",
      "195489 fully duplicate rows\n"
     ]
    }
   ],
   "source": [
    "\n",
    "for df in hpo_datasets:\n",
    "    # remove duplicated rows\n",
    "    dupli = df.duplicated().sum()\n",
    "    if dupli > 0:\n",
    "        print(dupli, \"fully duplicate rows\")\n",
    "        df.drop_duplicates(inplace=True)\n",
    "        df.reset_index(drop=True, inplace=True)"
   ]
  },
  {
   "cell_type": "code",
   "execution_count": 80,
   "metadata": {},
   "outputs": [
    {
     "data": {
      "text/plain": [
       "((1164332, 14), (327291, 14), (5003122, 14), (320050, 14))"
      ]
     },
     "execution_count": 80,
     "metadata": {},
     "output_type": "execute_result"
    }
   ],
   "source": [
    "train_df.shape, test_df.shape, hpo_train_df.shape, hpo_test_df.shape"
   ]
  },
  {
   "cell_type": "code",
   "execution_count": 106,
   "metadata": {},
   "outputs": [
    {
     "data": {
      "text/plain": [
       "6.401000000000001"
      ]
     },
     "execution_count": 106,
     "metadata": {},
     "output_type": "execute_result"
    }
   ],
   "source": [
    "320050*0.00002"
   ]
  },
  {
   "cell_type": "code",
   "execution_count": 87,
   "metadata": {},
   "outputs": [
    {
     "data": {
      "image/png": "[encoded data removed]",
      "text/plain": [
       "<Figure size 1500x1000 with 4 Axes>"
      ]
     },
     "metadata": {},
     "output_type": "display_data"
    }
   ],
   "source": [
    "#plot the attack_type distribution in all 4 datasets\n",
    "fig, axs = plt.subplots(2, 2, figsize=(15, 10))\n",
    "axs = axs.ravel()\n",
    "for i, df in enumerate([train_df, test_df, hpo_train_df, hpo_test_df]):\n",
    "    df['attack_type'].value_counts().plot(kind='bar', ax=axs[i], logy=True)\n",
    "    axs[i].set_title(f\"Dataset {i+1}\")\n",
    "plt.tight_layout()\n",
    "plt.show()\n"
   ]
  },
  {
   "cell_type": "code",
   "execution_count": 92,
   "metadata": {},
   "outputs": [
    {
     "name": "stdout",
     "output_type": "stream",
     "text": [
      "proto ['TCP' 'UDP' 'ICMP' 'IGMP'] train_df\n",
      "proto ['TCP' 'UDP' 'ICMP' 'IGMP'] test_df\n",
      "proto ['TCP' 'UDP' 'IGMP' 'ICMP'] hpo_train_df\n",
      "proto ['TCP' 'UDP' 'ICMP' 'IGMP'] hpo_test_df\n",
      "tos [  0  32 192  16] train_df\n",
      "tos [  0  32 192  16] test_df\n",
      "tos [  0  32 192  16] hpo_train_df\n",
      "tos [ 32   0 192  16] hpo_test_df\n",
      "attack_type ['dos' 'benign' 'portScan' 'pingScan' 'bruteForce'] train_df\n",
      "attack_type ['dos' 'benign' 'portScan' 'pingScan' 'bruteForce'] test_df\n",
      "attack_type ['benign' 'portScan' 'dos' 'pingScan' 'bruteForce'] hpo_train_df\n",
      "attack_type ['benign' 'portScan' 'dos' 'pingScan' 'bruteForce'] hpo_test_df\n",
      "label ['attacker' 'victim' 'normal'] train_df\n",
      "label ['victim' 'attacker' 'normal'] test_df\n",
      "label ['normal' 'attacker' 'victim'] hpo_train_df\n",
      "label ['normal' 'victim' 'attacker'] hpo_test_df\n",
      "tcp_ack [1 0] train_df\n",
      "tcp_ack [1 0] test_df\n",
      "tcp_ack [1 0] hpo_train_df\n",
      "tcp_ack [1 0] hpo_test_df\n",
      "tcp_fin [1 0] train_df\n",
      "tcp_fin [1 0] test_df\n",
      "tcp_fin [0 1] hpo_train_df\n",
      "tcp_fin [0 1] hpo_test_df\n",
      "tcp_psh [1 0] train_df\n",
      "tcp_psh [0 1] test_df\n",
      "tcp_psh [1 0] hpo_train_df\n",
      "tcp_psh [0 1] hpo_test_df\n",
      "tcp_rst [0 1] train_df\n",
      "tcp_rst [0 1] test_df\n",
      "tcp_rst [0 1] hpo_train_df\n",
      "tcp_rst [0 1] hpo_test_df\n",
      "tcp_syn [1 0] train_df\n",
      "tcp_syn [1 0] test_df\n",
      "tcp_syn [0 1] hpo_train_df\n",
      "tcp_syn [0 1] hpo_test_df\n"
     ]
    }
   ],
   "source": [
    "# compare unique values of the categorical columns in the train and test datasets and hpo datasets\n",
    "cat_cols = ['proto', 'tos', 'attack_type', 'label', 'tcp_ack', 'tcp_fin', 'tcp_psh', 'tcp_rst', 'tcp_syn']\n",
    "for col in cat_cols:\n",
    "    print(col, train_df[col].unique(), \"train_df\")\n",
    "    print(col, test_df[col].unique(), \"test_df\")\n",
    "    print(col, hpo_train_df[col].unique(), \"hpo_train_df\")\n",
    "    print(col, hpo_test_df[col].unique(), \"hpo_test_df\")"
   ]
  },
  {
   "cell_type": "code",
   "execution_count": 93,
   "metadata": {},
   "outputs": [],
   "source": [
    "hpo_test_df.to_csv(\"../thesisgan/input/new_hpo_data.csv\", index=False)\n",
    "train_df.to_csv(\"../thesisgan/input/new_train_data.csv\", index=False)\n",
    "test_df.to_csv(\"../thesisgan/input/new_test_data.csv\", index=False)"
   ]
  },
  {
   "cell_type": "code",
   "execution_count": 96,
   "metadata": {},
   "outputs": [
    {
     "data": {
      "text/html": [
       "<div>\n",
       "<style scoped>\n",
       "    .dataframe tbody tr th:only-of-type {\n",
       "        vertical-align: middle;\n",
       "    }\n",
       "\n",
       "    .dataframe tbody tr th {\n",
       "        vertical-align: top;\n",
       "    }\n",
       "\n",
       "    .dataframe thead th {\n",
       "        text-align: right;\n",
       "    }\n",
       "</style>\n",
       "<table border=\"1\" class=\"dataframe\">\n",
       "  <thead>\n",
       "    <tr style=\"text-align: right;\">\n",
       "      <th></th>\n",
       "      <th>duration</th>\n",
       "      <th>proto</th>\n",
       "      <th>src_pt</th>\n",
       "      <th>dst_pt</th>\n",
       "      <th>packets</th>\n",
       "      <th>bytes</th>\n",
       "      <th>tcp_ack</th>\n",
       "      <th>tcp_psh</th>\n",
       "      <th>tcp_rst</th>\n",
       "      <th>tcp_syn</th>\n",
       "      <th>tcp_fin</th>\n",
       "      <th>tos</th>\n",
       "      <th>label</th>\n",
       "      <th>attack_type</th>\n",
       "    </tr>\n",
       "  </thead>\n",
       "  <tbody>\n",
       "    <tr>\n",
       "      <th>0</th>\n",
       "      <td>0.00092</td>\n",
       "      <td>TCP</td>\n",
       "      <td>0.52252</td>\n",
       "      <td>0.00122</td>\n",
       "      <td>0.14693</td>\n",
       "      <td>0.15701</td>\n",
       "      <td>1</td>\n",
       "      <td>1</td>\n",
       "      <td>0</td>\n",
       "      <td>1</td>\n",
       "      <td>1</td>\n",
       "      <td>0</td>\n",
       "      <td>attacker</td>\n",
       "      <td>dos</td>\n",
       "    </tr>\n",
       "    <tr>\n",
       "      <th>1</th>\n",
       "      <td>0.00037</td>\n",
       "      <td>TCP</td>\n",
       "      <td>0.52254</td>\n",
       "      <td>0.00122</td>\n",
       "      <td>0.13198</td>\n",
       "      <td>0.14910</td>\n",
       "      <td>1</td>\n",
       "      <td>1</td>\n",
       "      <td>0</td>\n",
       "      <td>1</td>\n",
       "      <td>1</td>\n",
       "      <td>0</td>\n",
       "      <td>attacker</td>\n",
       "      <td>dos</td>\n",
       "    </tr>\n",
       "    <tr>\n",
       "      <th>2</th>\n",
       "      <td>0.00074</td>\n",
       "      <td>TCP</td>\n",
       "      <td>0.00122</td>\n",
       "      <td>0.52257</td>\n",
       "      <td>0.09009</td>\n",
       "      <td>0.09741</td>\n",
       "      <td>1</td>\n",
       "      <td>0</td>\n",
       "      <td>0</td>\n",
       "      <td>1</td>\n",
       "      <td>1</td>\n",
       "      <td>0</td>\n",
       "      <td>victim</td>\n",
       "      <td>dos</td>\n",
       "    </tr>\n",
       "    <tr>\n",
       "      <th>3</th>\n",
       "      <td>0.00165</td>\n",
       "      <td>TCP</td>\n",
       "      <td>0.52277</td>\n",
       "      <td>0.00122</td>\n",
       "      <td>0.14693</td>\n",
       "      <td>0.15701</td>\n",
       "      <td>1</td>\n",
       "      <td>1</td>\n",
       "      <td>0</td>\n",
       "      <td>1</td>\n",
       "      <td>1</td>\n",
       "      <td>0</td>\n",
       "      <td>attacker</td>\n",
       "      <td>dos</td>\n",
       "    </tr>\n",
       "    <tr>\n",
       "      <th>4</th>\n",
       "      <td>0.00037</td>\n",
       "      <td>TCP</td>\n",
       "      <td>0.00122</td>\n",
       "      <td>0.52274</td>\n",
       "      <td>0.11368</td>\n",
       "      <td>0.11444</td>\n",
       "      <td>1</td>\n",
       "      <td>0</td>\n",
       "      <td>0</td>\n",
       "      <td>1</td>\n",
       "      <td>1</td>\n",
       "      <td>0</td>\n",
       "      <td>victim</td>\n",
       "      <td>dos</td>\n",
       "    </tr>\n",
       "    <tr>\n",
       "      <th>...</th>\n",
       "      <td>...</td>\n",
       "      <td>...</td>\n",
       "      <td>...</td>\n",
       "      <td>...</td>\n",
       "      <td>...</td>\n",
       "      <td>...</td>\n",
       "      <td>...</td>\n",
       "      <td>...</td>\n",
       "      <td>...</td>\n",
       "      <td>...</td>\n",
       "      <td>...</td>\n",
       "      <td>...</td>\n",
       "      <td>...</td>\n",
       "      <td>...</td>\n",
       "    </tr>\n",
       "    <tr>\n",
       "      <th>1164327</th>\n",
       "      <td>0.01232</td>\n",
       "      <td>TCP</td>\n",
       "      <td>0.00034</td>\n",
       "      <td>0.78103</td>\n",
       "      <td>0.18882</td>\n",
       "      <td>0.23723</td>\n",
       "      <td>1</td>\n",
       "      <td>1</td>\n",
       "      <td>0</td>\n",
       "      <td>1</td>\n",
       "      <td>0</td>\n",
       "      <td>0</td>\n",
       "      <td>victim</td>\n",
       "      <td>bruteForce</td>\n",
       "    </tr>\n",
       "    <tr>\n",
       "      <th>1164328</th>\n",
       "      <td>0.02190</td>\n",
       "      <td>TCP</td>\n",
       "      <td>0.78103</td>\n",
       "      <td>0.00034</td>\n",
       "      <td>0.20377</td>\n",
       "      <td>0.26380</td>\n",
       "      <td>1</td>\n",
       "      <td>1</td>\n",
       "      <td>0</td>\n",
       "      <td>1</td>\n",
       "      <td>0</td>\n",
       "      <td>0</td>\n",
       "      <td>attacker</td>\n",
       "      <td>bruteForce</td>\n",
       "    </tr>\n",
       "    <tr>\n",
       "      <th>1164329</th>\n",
       "      <td>0.00165</td>\n",
       "      <td>TCP</td>\n",
       "      <td>0.00034</td>\n",
       "      <td>0.78103</td>\n",
       "      <td>0.13198</td>\n",
       "      <td>0.14689</td>\n",
       "      <td>1</td>\n",
       "      <td>1</td>\n",
       "      <td>0</td>\n",
       "      <td>0</td>\n",
       "      <td>1</td>\n",
       "      <td>0</td>\n",
       "      <td>victim</td>\n",
       "      <td>bruteForce</td>\n",
       "    </tr>\n",
       "    <tr>\n",
       "      <th>1164330</th>\n",
       "      <td>0.00147</td>\n",
       "      <td>TCP</td>\n",
       "      <td>0.78103</td>\n",
       "      <td>0.00034</td>\n",
       "      <td>0.13198</td>\n",
       "      <td>0.16391</td>\n",
       "      <td>1</td>\n",
       "      <td>1</td>\n",
       "      <td>0</td>\n",
       "      <td>0</td>\n",
       "      <td>1</td>\n",
       "      <td>0</td>\n",
       "      <td>attacker</td>\n",
       "      <td>bruteForce</td>\n",
       "    </tr>\n",
       "    <tr>\n",
       "      <th>1164331</th>\n",
       "      <td>0.02207</td>\n",
       "      <td>TCP</td>\n",
       "      <td>0.78155</td>\n",
       "      <td>0.00034</td>\n",
       "      <td>0.19664</td>\n",
       "      <td>0.26249</td>\n",
       "      <td>1</td>\n",
       "      <td>1</td>\n",
       "      <td>0</td>\n",
       "      <td>1</td>\n",
       "      <td>0</td>\n",
       "      <td>0</td>\n",
       "      <td>attacker</td>\n",
       "      <td>bruteForce</td>\n",
       "    </tr>\n",
       "  </tbody>\n",
       "</table>\n",
       "<p>1164332 rows × 14 columns</p>\n",
       "</div>"
      ],
      "text/plain": [
       "         duration proto  src_pt  dst_pt  packets   bytes  tcp_ack  tcp_psh  \\\n",
       "0         0.00092   TCP 0.52252 0.00122  0.14693 0.15701        1        1   \n",
       "1         0.00037   TCP 0.52254 0.00122  0.13198 0.14910        1        1   \n",
       "2         0.00074   TCP 0.00122 0.52257  0.09009 0.09741        1        0   \n",
       "3         0.00165   TCP 0.52277 0.00122  0.14693 0.15701        1        1   \n",
       "4         0.00037   TCP 0.00122 0.52274  0.11368 0.11444        1        0   \n",
       "...           ...   ...     ...     ...      ...     ...      ...      ...   \n",
       "1164327   0.01232   TCP 0.00034 0.78103  0.18882 0.23723        1        1   \n",
       "1164328   0.02190   TCP 0.78103 0.00034  0.20377 0.26380        1        1   \n",
       "1164329   0.00165   TCP 0.00034 0.78103  0.13198 0.14689        1        1   \n",
       "1164330   0.00147   TCP 0.78103 0.00034  0.13198 0.16391        1        1   \n",
       "1164331   0.02207   TCP 0.78155 0.00034  0.19664 0.26249        1        1   \n",
       "\n",
       "         tcp_rst  tcp_syn  tcp_fin  tos     label attack_type  \n",
       "0              0        1        1    0  attacker         dos  \n",
       "1              0        1        1    0  attacker         dos  \n",
       "2              0        1        1    0    victim         dos  \n",
       "3              0        1        1    0  attacker         dos  \n",
       "4              0        1        1    0    victim         dos  \n",
       "...          ...      ...      ...  ...       ...         ...  \n",
       "1164327        0        1        0    0    victim  bruteForce  \n",
       "1164328        0        1        0    0  attacker  bruteForce  \n",
       "1164329        0        0        1    0    victim  bruteForce  \n",
       "1164330        0        0        1    0  attacker  bruteForce  \n",
       "1164331        0        1        0    0  attacker  bruteForce  \n",
       "\n",
       "[1164332 rows x 14 columns]"
      ]
     },
     "execution_count": 96,
     "metadata": {},
     "output_type": "execute_result"
    }
   ],
   "source": [
    "train_df"
   ]
  }
 ],
 "metadata": {
  "kernelspec": {
   "display_name": "thesis",
   "language": "python",
   "name": "python3"
  },
  "language_info": {
   "codemirror_mode": {
    "name": "ipython",
    "version": 3
   },
   "file_extension": ".py",
   "mimetype": "text/x-python",
   "name": "python",
   "nbconvert_exporter": "python",
   "pygments_lexer": "ipython3",
   "version": "3.10.13"
  },
  "orig_nbformat": 4,
  "vscode": {
   "interpreter": {
    "hash": "6b304a34d7fd43cfffee68940e96273fdbf0885d8aeb3134e5c151237ca973ec"
   }
  }
 },
 "nbformat": 4,
 "nbformat_minor": 2
}
