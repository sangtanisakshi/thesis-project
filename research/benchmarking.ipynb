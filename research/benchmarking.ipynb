{
 "cells": [
  {
   "cell_type": "code",
   "execution_count": 1,
   "metadata": {},
   "outputs": [],
   "source": [
    "import pandas as pd\n",
    "import numpy as np\n",
    "import matplotlib.pyplot as plt\n",
    "import sdgym\n",
    "from sdgym.synthesizers import UniformSynthesizer, DataIdentity\n",
    "from sklearn.preprocessing import LabelEncoder\n",
    "import sys\n",
    "sys.path.append('..')\n",
    "from ctabganplus.model.evaluation import get_utility_metrics"
   ]
  },
  {
   "cell_type": "code",
   "execution_count": 2,
   "metadata": {},
   "outputs": [],
   "source": [
    "unf_syn = UniformSynthesizer()\n",
    "data_id = DataIdentity()"
   ]
  },
  {
   "cell_type": "markdown",
   "metadata": {},
   "source": [
    "### Get the benchmarking baseline"
   ]
  },
  {
   "cell_type": "code",
   "execution_count": 3,
   "metadata": {},
   "outputs": [],
   "source": [
    "from sdgym import load_dataset"
   ]
  },
  {
   "cell_type": "code",
   "execution_count": 4,
   "metadata": {},
   "outputs": [],
   "source": [
    "train_data, metadata = load_dataset(modality=\"single-table\", dataset='bm_datasets/train_data/')"
   ]
  },
  {
   "cell_type": "code",
   "execution_count": 5,
   "metadata": {},
   "outputs": [],
   "source": [
    "hpo_data, metadata = load_dataset(modality=\"single-table\", dataset='bm_datasets/hpo_data/')"
   ]
  },
  {
   "cell_type": "code",
   "execution_count": 6,
   "metadata": {},
   "outputs": [],
   "source": [
    "train_model_unf = unf_syn.get_trained_synthesizer(train_data, metadata)\n",
    "train_sample_data_unf = unf_syn.sample_from_synthesizer(train_model_unf, train_data.shape[0])\n",
    "train_model_id = data_id.get_trained_synthesizer(train_data, metadata)\n",
    "train_sample_data_ind = data_id.sample_from_synthesizer(train_model_id, train_data.shape[0])"
   ]
  },
  {
   "cell_type": "code",
   "execution_count": 7,
   "metadata": {},
   "outputs": [],
   "source": [
    "hpo_model_unf = unf_syn.get_trained_synthesizer(hpo_data, metadata)\n",
    "hpo_sample_data_unf = unf_syn.sample_from_synthesizer(hpo_model_unf, hpo_data.shape[0])\n",
    "hpo_model_id = data_id.get_trained_synthesizer(hpo_data, metadata)\n",
    "hpo_sample_data_id = data_id.sample_from_synthesizer(hpo_model_id, hpo_data.shape[0])"
   ]
  },
  {
   "cell_type": "markdown",
   "metadata": {},
   "source": [
    "### Get Baseline Metrics"
   ]
  },
  {
   "cell_type": "code",
   "execution_count": 8,
   "metadata": {},
   "outputs": [],
   "source": [
    "test_data = pd.read_csv('bm_datasets/test_data/test_data.csv')"
   ]
  },
  {
   "cell_type": "code",
   "execution_count": 9,
   "metadata": {},
   "outputs": [],
   "source": [
    "hpo_data = pd.read_csv('bm_datasets/hpo_data/hpo_data.csv')"
   ]
  },
  {
   "cell_type": "code",
   "execution_count": 10,
   "metadata": {},
   "outputs": [],
   "source": [
    "real_data = pd.read_csv('bm_datasets/train_data/train_data.csv')"
   ]
  },
  {
   "cell_type": "code",
   "execution_count": 11,
   "metadata": {},
   "outputs": [],
   "source": [
    "le_dict = {\"attack_type\": \"le_attack_type\", \"label\": \"le_label\", \"proto\": \"le_proto\", \"tos\": \"le_tos\"}\n",
    "for c in le_dict.keys():\n",
    "    le_dict[c] = LabelEncoder()\n",
    "    test_data[c] = le_dict[c].fit_transform(test_data[c])\n",
    "    hpo_data[c] = le_dict[c].fit_transform(hpo_data[c])\n",
    "    train_sample_data_unf[c] = le_dict[c].fit_transform(train_sample_data_unf[c])\n",
    "    train_sample_data_ind[c] = le_dict[c].fit_transform(train_sample_data_ind[c])\n",
    "    hpo_sample_data_unf[c] = le_dict[c].fit_transform(hpo_sample_data_unf[c])\n",
    "    hpo_sample_data_id[c] = le_dict[c].fit_transform(hpo_sample_data_id[c])\n",
    "    real_data[c] = le_dict[c].fit_transform(real_data[c])"
   ]
  },
  {
   "cell_type": "code",
   "execution_count": null,
   "metadata": {},
   "outputs": [],
   "source": [
    "bm_id_results, cr_id = get_utility_metrics(hpo_data, test_data, hpo_sample_data_id, scaler=\"MinMax\",type={\"Classification\":[\"xgb\",\"lr\",\"dt\",\"rf\",\"mlp\"]})"
   ]
  },
  {
   "cell_type": "code",
   "execution_count": 23,
   "metadata": {},
   "outputs": [
    {
     "data": {
      "text/html": [
       "<div>\n",
       "<style scoped>\n",
       "    .dataframe tbody tr th:only-of-type {\n",
       "        vertical-align: middle;\n",
       "    }\n",
       "\n",
       "    .dataframe tbody tr th {\n",
       "        vertical-align: top;\n",
       "    }\n",
       "\n",
       "    .dataframe thead th {\n",
       "        text-align: right;\n",
       "    }\n",
       "</style>\n",
       "<table border=\"1\" class=\"dataframe\">\n",
       "  <thead>\n",
       "    <tr style=\"text-align: right;\">\n",
       "      <th></th>\n",
       "      <th>Acc</th>\n",
       "      <th>AUC</th>\n",
       "      <th>F1_Score</th>\n",
       "      <th>SE_Acc</th>\n",
       "      <th>SE_AUC</th>\n",
       "      <th>SE_F1</th>\n",
       "    </tr>\n",
       "    <tr>\n",
       "      <th>Type</th>\n",
       "      <th></th>\n",
       "      <th></th>\n",
       "      <th></th>\n",
       "      <th></th>\n",
       "      <th></th>\n",
       "      <th></th>\n",
       "    </tr>\n",
       "  </thead>\n",
       "  <tbody>\n",
       "    <tr>\n",
       "      <th>Fake</th>\n",
       "      <td>65.516171</td>\n",
       "      <td>0.874539</td>\n",
       "      <td>0.612798</td>\n",
       "      <td>0.082403</td>\n",
       "      <td>0.000549</td>\n",
       "      <td>0.000835</td>\n",
       "    </tr>\n",
       "    <tr>\n",
       "      <th>Real</th>\n",
       "      <td>61.350125</td>\n",
       "      <td>0.851963</td>\n",
       "      <td>0.560196</td>\n",
       "      <td>0.081251</td>\n",
       "      <td>0.000562</td>\n",
       "      <td>0.000786</td>\n",
       "    </tr>\n",
       "    <tr>\n",
       "      <th>Difference</th>\n",
       "      <td>-4.166045</td>\n",
       "      <td>-0.022576</td>\n",
       "      <td>-0.052602</td>\n",
       "      <td>-0.001151</td>\n",
       "      <td>0.000013</td>\n",
       "      <td>-0.000049</td>\n",
       "    </tr>\n",
       "  </tbody>\n",
       "</table>\n",
       "</div>"
      ],
      "text/plain": [
       "                  Acc       AUC  F1_Score    SE_Acc    SE_AUC     SE_F1\n",
       "Type                                                                   \n",
       "Fake        65.516171  0.874539  0.612798  0.082403  0.000549  0.000835\n",
       "Real        61.350125  0.851963  0.560196  0.081251  0.000562  0.000786\n",
       "Difference  -4.166045 -0.022576 -0.052602 -0.001151  0.000013 -0.000049"
      ]
     },
     "execution_count": 23,
     "metadata": {},
     "output_type": "execute_result"
    }
   ],
   "source": [
    "bm_id_results.drop([\"Model\"],axis=1).groupby([\"Type\"]).mean().sort_values(by=\"F1_Score\", ascending=False).head(100)"
   ]
  },
  {
   "cell_type": "code",
   "execution_count": 12,
   "metadata": {},
   "outputs": [
    {
     "name": "stdout",
     "output_type": "stream",
     "text": [
      "Model:  xgb trained on real data\n",
      "Model:  lr trained on real data\n",
      "Model:  dt trained on real data\n",
      "Model:  rf trained on real data\n",
      "Model:  mlp trained on real data\n",
      "Model:  xgb trained on fake data\n",
      "Model:  lr trained on fake data\n",
      "Model:  dt trained on fake data\n",
      "Model:  rf trained on fake data\n",
      "Model:  mlp trained on fake data\n"
     ]
    }
   ],
   "source": [
    "bm_unf_results, cr_unf = get_utility_metrics(hpo_data, test_data, hpo_sample_data_unf, scaler=\"MinMax\",type={\"Classification\":[\"xgb\",\"lr\",\"dt\",\"rf\",\"mlp\"]})"
   ]
  },
  {
   "cell_type": "code",
   "execution_count": 16,
   "metadata": {},
   "outputs": [
    {
     "data": {
      "text/html": [
       "<div>\n",
       "<style scoped>\n",
       "    .dataframe tbody tr th:only-of-type {\n",
       "        vertical-align: middle;\n",
       "    }\n",
       "\n",
       "    .dataframe tbody tr th {\n",
       "        vertical-align: top;\n",
       "    }\n",
       "\n",
       "    .dataframe thead th {\n",
       "        text-align: right;\n",
       "    }\n",
       "</style>\n",
       "<table border=\"1\" class=\"dataframe\">\n",
       "  <thead>\n",
       "    <tr style=\"text-align: right;\">\n",
       "      <th></th>\n",
       "      <th>Acc</th>\n",
       "      <th>AUC</th>\n",
       "      <th>F1_Score</th>\n",
       "      <th>SE_Acc</th>\n",
       "      <th>SE_AUC</th>\n",
       "      <th>SE_F1</th>\n",
       "    </tr>\n",
       "    <tr>\n",
       "      <th>Type</th>\n",
       "      <th></th>\n",
       "      <th></th>\n",
       "      <th></th>\n",
       "      <th></th>\n",
       "      <th></th>\n",
       "      <th></th>\n",
       "    </tr>\n",
       "  </thead>\n",
       "  <tbody>\n",
       "    <tr>\n",
       "      <th>Real</th>\n",
       "      <td>61.350125</td>\n",
       "      <td>0.851963</td>\n",
       "      <td>0.560196</td>\n",
       "      <td>0.081251</td>\n",
       "      <td>0.000562</td>\n",
       "      <td>0.000786</td>\n",
       "    </tr>\n",
       "    <tr>\n",
       "      <th>Difference</th>\n",
       "      <td>37.028260</td>\n",
       "      <td>0.348872</td>\n",
       "      <td>0.448018</td>\n",
       "      <td>0.008280</td>\n",
       "      <td>-0.000302</td>\n",
       "      <td>0.000256</td>\n",
       "    </tr>\n",
       "    <tr>\n",
       "      <th>Fake</th>\n",
       "      <td>24.321865</td>\n",
       "      <td>0.503091</td>\n",
       "      <td>0.112178</td>\n",
       "      <td>0.072971</td>\n",
       "      <td>0.000864</td>\n",
       "      <td>0.000530</td>\n",
       "    </tr>\n",
       "  </tbody>\n",
       "</table>\n",
       "</div>"
      ],
      "text/plain": [
       "                  Acc       AUC  F1_Score    SE_Acc    SE_AUC     SE_F1\n",
       "Type                                                                   \n",
       "Real        61.350125  0.851963  0.560196  0.081251  0.000562  0.000786\n",
       "Difference  37.028260  0.348872  0.448018  0.008280 -0.000302  0.000256\n",
       "Fake        24.321865  0.503091  0.112178  0.072971  0.000864  0.000530"
      ]
     },
     "execution_count": 16,
     "metadata": {},
     "output_type": "execute_result"
    }
   ],
   "source": [
    "bm_unf_results.drop([\"Model\"],axis=1).groupby([\"Type\"]).mean().sort_values(by=\"F1_Score\", ascending=False).head(100)"
   ]
  },
  {
   "cell_type": "code",
   "execution_count": 13,
   "metadata": {},
   "outputs": [],
   "source": [
    "# get the brute force and ping scan data from test_2 \n",
    "bf = test_data[test_data['attack_type'] == 'bruteForce']\n",
    "ps = test_data[test_data['attack_type'] == 'pingScan']\n",
    "hpo_data = pd.concat([hpo_data, bf, ps])\n",
    "hpo_data.reset_index(drop=True, inplace=True)"
   ]
  },
  {
   "cell_type": "code",
   "execution_count": 14,
   "metadata": {},
   "outputs": [
    {
     "data": {
      "text/plain": [
       "0    253721\n",
       "2     64172\n",
       "4      1983\n",
       "1       169\n",
       "3         5\n",
       "Name: attack_type, dtype: int64"
      ]
     },
     "execution_count": 14,
     "metadata": {},
     "output_type": "execute_result"
    }
   ],
   "source": [
    "hpo_data.attack_type.value_counts()"
   ]
  },
  {
   "cell_type": "code",
   "execution_count": 15,
   "metadata": {},
   "outputs": [
    {
     "name": "stdout",
     "output_type": "stream",
     "text": [
      "Model:  xgb trained on real data\n",
      "Model:  lr trained on real data\n",
      "Model:  dt trained on real data\n",
      "Model:  rf trained on real data\n",
      "Model:  mlp trained on real data\n",
      "Model:  xgb trained on fake data\n",
      "Model:  lr trained on fake data\n",
      "Model:  dt trained on fake data\n",
      "Model:  rf trained on fake data\n",
      "Model:  mlp trained on fake data\n"
     ]
    }
   ],
   "source": [
    "train_id_results, cr_id_train = get_utility_metrics(real_data, test_data, train_sample_data_ind, scaler=\"MinMax\",type={\"Classification\":[\"xgb\",\"lr\",\"dt\",\"rf\",\"mlp\"]})"
   ]
  },
  {
   "cell_type": "code",
   "execution_count": 17,
   "metadata": {},
   "outputs": [
    {
     "data": {
      "text/html": [
       "<div>\n",
       "<style scoped>\n",
       "    .dataframe tbody tr th:only-of-type {\n",
       "        vertical-align: middle;\n",
       "    }\n",
       "\n",
       "    .dataframe tbody tr th {\n",
       "        vertical-align: top;\n",
       "    }\n",
       "\n",
       "    .dataframe thead th {\n",
       "        text-align: right;\n",
       "    }\n",
       "</style>\n",
       "<table border=\"1\" class=\"dataframe\">\n",
       "  <thead>\n",
       "    <tr style=\"text-align: right;\">\n",
       "      <th></th>\n",
       "      <th>Acc</th>\n",
       "      <th>AUC</th>\n",
       "      <th>F1_Score</th>\n",
       "      <th>SE_Acc</th>\n",
       "      <th>SE_AUC</th>\n",
       "      <th>SE_F1</th>\n",
       "    </tr>\n",
       "    <tr>\n",
       "      <th>Type</th>\n",
       "      <th></th>\n",
       "      <th></th>\n",
       "      <th></th>\n",
       "      <th></th>\n",
       "      <th></th>\n",
       "      <th></th>\n",
       "    </tr>\n",
       "  </thead>\n",
       "  <tbody>\n",
       "    <tr>\n",
       "      <th>Fake</th>\n",
       "      <td>86.709319</td>\n",
       "      <td>0.959889</td>\n",
       "      <td>0.784177</td>\n",
       "      <td>0.057144</td>\n",
       "      <td>0.000332</td>\n",
       "      <td>0.000668</td>\n",
       "    </tr>\n",
       "    <tr>\n",
       "      <th>Real</th>\n",
       "      <td>83.348174</td>\n",
       "      <td>0.936337</td>\n",
       "      <td>0.735378</td>\n",
       "      <td>0.059556</td>\n",
       "      <td>0.000372</td>\n",
       "      <td>0.000633</td>\n",
       "    </tr>\n",
       "    <tr>\n",
       "      <th>Difference</th>\n",
       "      <td>-3.361145</td>\n",
       "      <td>-0.023552</td>\n",
       "      <td>-0.048798</td>\n",
       "      <td>0.002412</td>\n",
       "      <td>0.000041</td>\n",
       "      <td>-0.000035</td>\n",
       "    </tr>\n",
       "  </tbody>\n",
       "</table>\n",
       "</div>"
      ],
      "text/plain": [
       "                  Acc       AUC  F1_Score    SE_Acc    SE_AUC     SE_F1\n",
       "Type                                                                   \n",
       "Fake        86.709319  0.959889  0.784177  0.057144  0.000332  0.000668\n",
       "Real        83.348174  0.936337  0.735378  0.059556  0.000372  0.000633\n",
       "Difference  -3.361145 -0.023552 -0.048798  0.002412  0.000041 -0.000035"
      ]
     },
     "execution_count": 17,
     "metadata": {},
     "output_type": "execute_result"
    }
   ],
   "source": [
    "train_id_results.drop([\"Model\"],axis=1).groupby([\"Type\"]).mean().sort_values(by=\"F1_Score\", ascending=False).head(100)"
   ]
  },
  {
   "cell_type": "code",
   "execution_count": 18,
   "metadata": {},
   "outputs": [
    {
     "name": "stdout",
     "output_type": "stream",
     "text": [
      "Model:  xgb trained on real data\n",
      "Model:  lr trained on real data\n",
      "Model:  dt trained on real data\n",
      "Model:  rf trained on real data\n",
      "Model:  mlp trained on real data\n",
      "Model:  xgb trained on fake data\n",
      "Model:  lr trained on fake data\n",
      "Model:  dt trained on fake data\n",
      "Model:  rf trained on fake data\n",
      "Model:  mlp trained on fake data\n"
     ]
    }
   ],
   "source": [
    "train_unf_results, cr_unf_train = get_utility_metrics(real_data, test_data, train_sample_data_unf, scaler=\"MinMax\",type={\"Classification\":[\"xgb\",\"lr\",\"dt\",\"rf\",\"mlp\"]})"
   ]
  },
  {
   "cell_type": "code",
   "execution_count": 19,
   "metadata": {},
   "outputs": [
    {
     "data": {
      "text/html": [
       "<div>\n",
       "<style scoped>\n",
       "    .dataframe tbody tr th:only-of-type {\n",
       "        vertical-align: middle;\n",
       "    }\n",
       "\n",
       "    .dataframe tbody tr th {\n",
       "        vertical-align: top;\n",
       "    }\n",
       "\n",
       "    .dataframe thead th {\n",
       "        text-align: right;\n",
       "    }\n",
       "</style>\n",
       "<table border=\"1\" class=\"dataframe\">\n",
       "  <thead>\n",
       "    <tr style=\"text-align: right;\">\n",
       "      <th></th>\n",
       "      <th>Acc</th>\n",
       "      <th>AUC</th>\n",
       "      <th>F1_Score</th>\n",
       "      <th>SE_Acc</th>\n",
       "      <th>SE_AUC</th>\n",
       "      <th>SE_F1</th>\n",
       "    </tr>\n",
       "    <tr>\n",
       "      <th>Type</th>\n",
       "      <th></th>\n",
       "      <th></th>\n",
       "      <th></th>\n",
       "      <th></th>\n",
       "      <th></th>\n",
       "      <th></th>\n",
       "    </tr>\n",
       "  </thead>\n",
       "  <tbody>\n",
       "    <tr>\n",
       "      <th>Real</th>\n",
       "      <td>83.348174</td>\n",
       "      <td>0.936337</td>\n",
       "      <td>0.735378</td>\n",
       "      <td>0.059556</td>\n",
       "      <td>0.000372</td>\n",
       "      <td>0.000633</td>\n",
       "    </tr>\n",
       "    <tr>\n",
       "      <th>Difference</th>\n",
       "      <td>63.045393</td>\n",
       "      <td>0.424436</td>\n",
       "      <td>0.634904</td>\n",
       "      <td>-0.010440</td>\n",
       "      <td>-0.000497</td>\n",
       "      <td>0.000140</td>\n",
       "    </tr>\n",
       "    <tr>\n",
       "      <th>Fake</th>\n",
       "      <td>20.302780</td>\n",
       "      <td>0.511901</td>\n",
       "      <td>0.100475</td>\n",
       "      <td>0.069996</td>\n",
       "      <td>0.000870</td>\n",
       "      <td>0.000492</td>\n",
       "    </tr>\n",
       "  </tbody>\n",
       "</table>\n",
       "</div>"
      ],
      "text/plain": [
       "                  Acc       AUC  F1_Score    SE_Acc    SE_AUC     SE_F1\n",
       "Type                                                                   \n",
       "Real        83.348174  0.936337  0.735378  0.059556  0.000372  0.000633\n",
       "Difference  63.045393  0.424436  0.634904 -0.010440 -0.000497  0.000140\n",
       "Fake        20.302780  0.511901  0.100475  0.069996  0.000870  0.000492"
      ]
     },
     "execution_count": 19,
     "metadata": {},
     "output_type": "execute_result"
    }
   ],
   "source": [
    "train_unf_results.drop([\"Model\"],axis=1).groupby([\"Type\"]).mean().sort_values(by=\"F1_Score\", ascending=False).head(100)"
   ]
  }
 ],
 "metadata": {
  "kernelspec": {
   "display_name": "evaluation",
   "language": "python",
   "name": "python3"
  },
  "language_info": {
   "codemirror_mode": {
    "name": "ipython",
    "version": 3
   },
   "file_extension": ".py",
   "mimetype": "text/x-python",
   "name": "python",
   "nbconvert_exporter": "python",
   "pygments_lexer": "ipython3",
   "version": "3.10.13"
  }
 },
 "nbformat": 4,
 "nbformat_minor": 2
}
