{
 "cells": [
  {
   "cell_type": "markdown",
   "metadata": {},
   "source": [
    "# Evaluation with ML\n",
    "The point of this section is to check whether the generated data can be used to train new models. I will do this mostly by training a classifier on the generated data and then perform inference on the original data. The 'test set' data will in this case give a good indication of how usable the data is."
   ]
  },
  {
   "cell_type": "code",
   "execution_count": 10,
   "metadata": {},
   "outputs": [],
   "source": [
    "%load_ext autoreload\n",
    "%autoreload 2\n",
    "%matplotlib inline"
   ]
  },
  {
   "cell_type": "code",
   "execution_count": 2,
   "metadata": {},
   "outputs": [
    {
     "name": "stderr",
     "output_type": "stream",
     "text": [
      "C:\\Users\\C64062\\anaconda3\\envs\\fastai\\lib\\importlib\\_bootstrap.py:219: RuntimeWarning: numpy.ufunc size changed, may indicate binary incompatibility. Expected 192 from C header, got 216 from PyObject\n",
      "  return f(*args, **kwds)\n",
      "C:\\Users\\C64062\\anaconda3\\envs\\fastai\\lib\\importlib\\_bootstrap.py:219: RuntimeWarning: numpy.ufunc size changed, may indicate binary incompatibility. Expected 192 from C header, got 216 from PyObject\n",
      "  return f(*args, **kwds)\n"
     ]
    }
   ],
   "source": [
    "import xgboost as xgb\n",
    "import pandas as pd\n",
    "from xgboost import XGBClassifier\n",
    "from sklearn.model_selection import train_test_split\n",
    "from sklearn.ensemble import RandomForestClassifier"
   ]
  },
  {
   "cell_type": "code",
   "execution_count": 2,
   "metadata": {},
   "outputs": [],
   "source": [
    "def get_data(path_real, path_fake, real_sep=';', fake_sep=','):\n",
    "    real = pd.read_csv(path_real, sep=real_sep)\n",
    "    fake = pd.read_csv(path_fake, sep=fake_sep)\n",
    "    real = real.sample(len(fake))\n",
    "    real = real[fake.columns]\n",
    "    for col in fake.columns:\n",
    "        fake[col] = fake[col].astype(real[col].dtype)\n",
    "    return real, fake"
   ]
  },
  {
   "cell_type": "code",
   "execution_count": 3,
   "metadata": {},
   "outputs": [],
   "source": [
    "class FakeDataEval:\n",
    "    def __init__(self, real_data, fake_data, dep_var: str, clf=XGBClassifier, source='fake', **kwargs):\n",
    "        fake_data.columns = real_data.columns\n",
    "        self.real_data = real_data\n",
    "        self.fake_data = fake_data\n",
    "        self.dep_var = dep_var\n",
    "        if source == 'fake':\n",
    "            self.source = fake_data\n",
    "            self.target = real_data\n",
    "        elif source == 'real':\n",
    "            self.source = real_data\n",
    "            self.target = fake_data\n",
    "            \n",
    "            \n",
    "        if len(self.source[dep_var].unique()) > 2:\n",
    "            target_func = lambda x: (x > x.mean()).astype('int')\n",
    "            print(f'Label has more than 2 values. Comparing to mean...')\n",
    "            self.y_source = target_func(self.source[dep_var])\n",
    "            self.y_target = target_func(self.target[dep_var])\n",
    "        else:\n",
    "            self.y_source = self.source[dep_var]\n",
    "            self.y_target = self.target[dep_var]\n",
    "            assert not self.y_source.isna().any(), f'target contains null values. Please fix and try again.'\n",
    "            \n",
    "        self.clf = clf(**kwargs)\n",
    "        self.x_train, self.x_test, self.y_train, self.y_test = train_test_split(self.source.drop([dep_var], axis=1), self.y_source, test_size=0.2, shuffle=True)\n",
    "#         self.x_train, self.x_test, self.y_train, self.y_test = train_test_split(self.source, self.y_source, test_size=0.2, shuffle=True)\n",
    "\n",
    "    def fit(self, verbose=True):\n",
    "        self.clf.fit(self.x_train, self.y_train, eval_set=[(self.x_test, self.y_test)], verbose=verbose)\n",
    "        return self.clf.score(self.x_test, self.y_test)\n",
    "\n",
    "    def score(self):\n",
    "        return self.clf.score(self.target.drop([self.dep_var], axis=1), self.y_target)\n",
    "#         return self.clf.score(self.target, self.y_target)\n"
   ]
  },
  {
   "cell_type": "code",
   "execution_count": 4,
   "metadata": {},
   "outputs": [
    {
     "name": "stderr",
     "output_type": "stream",
     "text": [
      "/home/bauke/anaconda3/envs/p3.6/lib/python3.6/site-packages/IPython/core/interactiveshell.py:3214: DtypeWarning: Columns (4) have mixed types. Specify dtype option on import or set low_memory=False.\n",
      "  if (yield from self.run_code(code, result)):\n"
     ]
    }
   ],
   "source": [
    "real, fake = get_data('../data/berka/berka_cat.csv', 'samples/berka_sample.csv')"
   ]
  },
  {
   "cell_type": "code",
   "execution_count": 7,
   "metadata": {},
   "outputs": [],
   "source": [
    "for col in fake.select_dtypes(include=['object']):\n",
    "    fake[col] = pd.factorize(fake[col])[0]\n",
    "    real[col] = pd.factorize(real[col])[0]"
   ]
  },
  {
   "cell_type": "code",
   "execution_count": 8,
   "metadata": {},
   "outputs": [
    {
     "name": "stdout",
     "output_type": "stream",
     "text": [
      "Label has more than 2 values. Comparing to mean...\n",
      "[0]\tvalidation_0-error:0.1891\n",
      "[1]\tvalidation_0-error:0.1891\n",
      "[2]\tvalidation_0-error:0.18735\n",
      "[3]\tvalidation_0-error:0.18735\n",
      "[4]\tvalidation_0-error:0.18735\n",
      "[5]\tvalidation_0-error:0.1873\n",
      "[6]\tvalidation_0-error:0.1873\n",
      "[7]\tvalidation_0-error:0.1873\n",
      "[8]\tvalidation_0-error:0.1842\n",
      "[9]\tvalidation_0-error:0.1873\n",
      "[10]\tvalidation_0-error:0.1873\n",
      "[11]\tvalidation_0-error:0.1873\n",
      "[12]\tvalidation_0-error:0.18725\n",
      "[13]\tvalidation_0-error:0.1847\n",
      "[14]\tvalidation_0-error:0.18715\n",
      "[15]\tvalidation_0-error:0.1868\n",
      "[16]\tvalidation_0-error:0.171\n",
      "[17]\tvalidation_0-error:0.1709\n",
      "[18]\tvalidation_0-error:0.1709\n",
      "[19]\tvalidation_0-error:0.1709\n",
      "[20]\tvalidation_0-error:0.171\n",
      "[21]\tvalidation_0-error:0.171\n",
      "[22]\tvalidation_0-error:0.17095\n",
      "[23]\tvalidation_0-error:0.171\n",
      "[24]\tvalidation_0-error:0.17095\n",
      "[25]\tvalidation_0-error:0.17095\n",
      "[26]\tvalidation_0-error:0.1687\n",
      "[27]\tvalidation_0-error:0.1685\n",
      "[28]\tvalidation_0-error:0.1683\n",
      "[29]\tvalidation_0-error:0.16845\n",
      "[30]\tvalidation_0-error:0.16795\n",
      "[31]\tvalidation_0-error:0.16795\n",
      "[32]\tvalidation_0-error:0.1678\n",
      "[33]\tvalidation_0-error:0.1676\n",
      "[34]\tvalidation_0-error:0.1689\n",
      "[35]\tvalidation_0-error:0.16775\n",
      "[36]\tvalidation_0-error:0.1677\n",
      "[37]\tvalidation_0-error:0.1677\n",
      "[38]\tvalidation_0-error:0.16745\n",
      "[39]\tvalidation_0-error:0.16755\n",
      "[40]\tvalidation_0-error:0.16745\n",
      "[41]\tvalidation_0-error:0.16725\n",
      "[42]\tvalidation_0-error:0.16705\n",
      "[43]\tvalidation_0-error:0.16705\n",
      "[44]\tvalidation_0-error:0.16695\n",
      "[45]\tvalidation_0-error:0.16675\n",
      "[46]\tvalidation_0-error:0.1667\n",
      "[47]\tvalidation_0-error:0.1667\n",
      "[48]\tvalidation_0-error:0.1667\n",
      "[49]\tvalidation_0-error:0.1665\n",
      "[50]\tvalidation_0-error:0.16645\n",
      "[51]\tvalidation_0-error:0.16655\n",
      "[52]\tvalidation_0-error:0.16655\n",
      "[53]\tvalidation_0-error:0.1659\n",
      "[54]\tvalidation_0-error:0.166\n",
      "[55]\tvalidation_0-error:0.16575\n",
      "[56]\tvalidation_0-error:0.1658\n",
      "[57]\tvalidation_0-error:0.16535\n",
      "[58]\tvalidation_0-error:0.1654\n",
      "[59]\tvalidation_0-error:0.1655\n",
      "[60]\tvalidation_0-error:0.16555\n",
      "[61]\tvalidation_0-error:0.16535\n",
      "[62]\tvalidation_0-error:0.1651\n",
      "[63]\tvalidation_0-error:0.16505\n",
      "[64]\tvalidation_0-error:0.1649\n",
      "[65]\tvalidation_0-error:0.16495\n",
      "[66]\tvalidation_0-error:0.1644\n",
      "[67]\tvalidation_0-error:0.1644\n",
      "[68]\tvalidation_0-error:0.1643\n",
      "[69]\tvalidation_0-error:0.1641\n",
      "[70]\tvalidation_0-error:0.1642\n",
      "[71]\tvalidation_0-error:0.16395\n",
      "[72]\tvalidation_0-error:0.1637\n",
      "[73]\tvalidation_0-error:0.16375\n",
      "[74]\tvalidation_0-error:0.1638\n",
      "[75]\tvalidation_0-error:0.16385\n",
      "[76]\tvalidation_0-error:0.16385\n",
      "[77]\tvalidation_0-error:0.16385\n",
      "[78]\tvalidation_0-error:0.16385\n",
      "[79]\tvalidation_0-error:0.1638\n",
      "[80]\tvalidation_0-error:0.16335\n",
      "[81]\tvalidation_0-error:0.16355\n",
      "[82]\tvalidation_0-error:0.16375\n",
      "[83]\tvalidation_0-error:0.1633\n",
      "[84]\tvalidation_0-error:0.16355\n",
      "[85]\tvalidation_0-error:0.1636\n",
      "[86]\tvalidation_0-error:0.1635\n",
      "[87]\tvalidation_0-error:0.16325\n",
      "[88]\tvalidation_0-error:0.16345\n",
      "[89]\tvalidation_0-error:0.16335\n",
      "[90]\tvalidation_0-error:0.1636\n",
      "[91]\tvalidation_0-error:0.1634\n",
      "[92]\tvalidation_0-error:0.16345\n",
      "[93]\tvalidation_0-error:0.1634\n",
      "[94]\tvalidation_0-error:0.1633\n",
      "[95]\tvalidation_0-error:0.1634\n",
      "[96]\tvalidation_0-error:0.1634\n",
      "[97]\tvalidation_0-error:0.16325\n",
      "[98]\tvalidation_0-error:0.1633\n",
      "[99]\tvalidation_0-error:0.1634\n"
     ]
    },
    {
     "data": {
      "text/plain": [
       "0.71453"
      ]
     },
     "execution_count": 8,
     "metadata": {},
     "output_type": "execute_result"
    }
   ],
   "source": [
    "x = FakeDataEval(real, fake, 'trans_amount')\n",
    "x.fit()\n",
    "x.score()"
   ]
  },
  {
   "cell_type": "code",
   "execution_count": 11,
   "metadata": {},
   "outputs": [
    {
     "data": {
      "text/plain": [
       "<matplotlib.axes._subplots.AxesSubplot at 0x7fde69562e10>"
      ]
     },
     "execution_count": 11,
     "metadata": {},
     "output_type": "execute_result"
    },
    {
     "data": {
      "image/png": "[encoded data removed]",
      "text/plain": [
       "<Figure size 432x288 with 1 Axes>"
      ]
     },
     "metadata": {
      "needs_background": "light"
     },
     "output_type": "display_data"
    }
   ],
   "source": [
    "xgb.plot_importance(x.clf)"
   ]
  },
  {
   "cell_type": "code",
   "execution_count": 12,
   "metadata": {},
   "outputs": [
    {
     "name": "stdout",
     "output_type": "stream",
     "text": [
      "Label has more than 2 values. Comparing to mean...\n",
      "[0]\tvalidation_0-error:0.17935\n",
      "[1]\tvalidation_0-error:0.1783\n",
      "[2]\tvalidation_0-error:0.1783\n",
      "[3]\tvalidation_0-error:0.1783\n",
      "[4]\tvalidation_0-error:0.1783\n",
      "[5]\tvalidation_0-error:0.17545\n",
      "[6]\tvalidation_0-error:0.16255\n",
      "[7]\tvalidation_0-error:0.1783\n",
      "[8]\tvalidation_0-error:0.1768\n",
      "[9]\tvalidation_0-error:0.1768\n",
      "[10]\tvalidation_0-error:0.1593\n",
      "[11]\tvalidation_0-error:0.17505\n",
      "[12]\tvalidation_0-error:0.17505\n",
      "[13]\tvalidation_0-error:0.16085\n",
      "[14]\tvalidation_0-error:0.16085\n",
      "[15]\tvalidation_0-error:0.1606\n",
      "[16]\tvalidation_0-error:0.16065\n",
      "[17]\tvalidation_0-error:0.1604\n",
      "[18]\tvalidation_0-error:0.16105\n",
      "[19]\tvalidation_0-error:0.16105\n",
      "[20]\tvalidation_0-error:0.16105\n",
      "[21]\tvalidation_0-error:0.161\n",
      "[22]\tvalidation_0-error:0.161\n",
      "[23]\tvalidation_0-error:0.16875\n",
      "[24]\tvalidation_0-error:0.16885\n",
      "[25]\tvalidation_0-error:0.1683\n",
      "[26]\tvalidation_0-error:0.1618\n",
      "[27]\tvalidation_0-error:0.1611\n",
      "[28]\tvalidation_0-error:0.1611\n",
      "[29]\tvalidation_0-error:0.16395\n",
      "[30]\tvalidation_0-error:0.16095\n",
      "[31]\tvalidation_0-error:0.16095\n",
      "[32]\tvalidation_0-error:0.1609\n",
      "[33]\tvalidation_0-error:0.1606\n",
      "[34]\tvalidation_0-error:0.1604\n",
      "[35]\tvalidation_0-error:0.16085\n",
      "[36]\tvalidation_0-error:0.1621\n",
      "[37]\tvalidation_0-error:0.1621\n",
      "[38]\tvalidation_0-error:0.1608\n",
      "[39]\tvalidation_0-error:0.1623\n",
      "[40]\tvalidation_0-error:0.16075\n",
      "[41]\tvalidation_0-error:0.1609\n",
      "[42]\tvalidation_0-error:0.16095\n",
      "[43]\tvalidation_0-error:0.16095\n",
      "[44]\tvalidation_0-error:0.1608\n",
      "[45]\tvalidation_0-error:0.16075\n",
      "[46]\tvalidation_0-error:0.1597\n",
      "[47]\tvalidation_0-error:0.1595\n",
      "[48]\tvalidation_0-error:0.1595\n",
      "[49]\tvalidation_0-error:0.1595\n",
      "[50]\tvalidation_0-error:0.1595\n",
      "[51]\tvalidation_0-error:0.1595\n",
      "[52]\tvalidation_0-error:0.1591\n",
      "[53]\tvalidation_0-error:0.159\n",
      "[54]\tvalidation_0-error:0.1591\n",
      "[55]\tvalidation_0-error:0.159\n",
      "[56]\tvalidation_0-error:0.1592\n",
      "[57]\tvalidation_0-error:0.1588\n",
      "[58]\tvalidation_0-error:0.1586\n",
      "[59]\tvalidation_0-error:0.15845\n",
      "[60]\tvalidation_0-error:0.1583\n",
      "[61]\tvalidation_0-error:0.15835\n",
      "[62]\tvalidation_0-error:0.1583\n",
      "[63]\tvalidation_0-error:0.1578\n",
      "[64]\tvalidation_0-error:0.15785\n",
      "[65]\tvalidation_0-error:0.15745\n",
      "[66]\tvalidation_0-error:0.158\n",
      "[67]\tvalidation_0-error:0.1576\n",
      "[68]\tvalidation_0-error:0.15705\n",
      "[69]\tvalidation_0-error:0.1572\n",
      "[70]\tvalidation_0-error:0.15705\n",
      "[71]\tvalidation_0-error:0.1571\n",
      "[72]\tvalidation_0-error:0.1573\n",
      "[73]\tvalidation_0-error:0.1571\n",
      "[74]\tvalidation_0-error:0.1571\n",
      "[75]\tvalidation_0-error:0.1575\n",
      "[76]\tvalidation_0-error:0.158\n",
      "[77]\tvalidation_0-error:0.15655\n",
      "[78]\tvalidation_0-error:0.15645\n",
      "[79]\tvalidation_0-error:0.1564\n",
      "[80]\tvalidation_0-error:0.15635\n",
      "[81]\tvalidation_0-error:0.1565\n",
      "[82]\tvalidation_0-error:0.1564\n",
      "[83]\tvalidation_0-error:0.15625\n",
      "[84]\tvalidation_0-error:0.1563\n",
      "[85]\tvalidation_0-error:0.1562\n",
      "[86]\tvalidation_0-error:0.15615\n",
      "[87]\tvalidation_0-error:0.1559\n",
      "[88]\tvalidation_0-error:0.15595\n",
      "[89]\tvalidation_0-error:0.15595\n",
      "[90]\tvalidation_0-error:0.156\n",
      "[91]\tvalidation_0-error:0.1562\n",
      "[92]\tvalidation_0-error:0.1558\n",
      "[93]\tvalidation_0-error:0.15595\n",
      "[94]\tvalidation_0-error:0.1559\n",
      "[95]\tvalidation_0-error:0.15575\n",
      "[96]\tvalidation_0-error:0.156\n",
      "[97]\tvalidation_0-error:0.156\n",
      "[98]\tvalidation_0-error:0.1555\n",
      "[99]\tvalidation_0-error:0.15555\n"
     ]
    },
    {
     "data": {
      "text/plain": [
       "0.7395"
      ]
     },
     "execution_count": 12,
     "metadata": {},
     "output_type": "execute_result"
    }
   ],
   "source": [
    "y = FakeDataEval(real, fake, 'trans_amount', source='real')\n",
    "y.fit()\n",
    "y.score()"
   ]
  },
  {
   "cell_type": "code",
   "execution_count": 13,
   "metadata": {},
   "outputs": [
    {
     "data": {
      "text/plain": [
       "<matplotlib.axes._subplots.AxesSubplot at 0x7fde69470cf8>"
      ]
     },
     "execution_count": 13,
     "metadata": {},
     "output_type": "execute_result"
    },
    {
     "data": {
      "image/png": "[encoded data removed]",
      "text/plain": [
       "<Figure size 432x288 with 1 Axes>"
      ]
     },
     "metadata": {
      "needs_background": "light"
     },
     "output_type": "display_data"
    }
   ],
   "source": [
    "xgb.plot_importance(y.clf)\n"
   ]
  },
  {
   "cell_type": "code",
   "execution_count": 50,
   "metadata": {},
   "outputs": [],
   "source": [
    "real, fake = get_data('Ticket')"
   ]
  },
  {
   "cell_type": "code",
   "execution_count": 51,
   "metadata": {},
   "outputs": [
    {
     "name": "stdout",
     "output_type": "stream",
     "text": [
      "Label has more than 2 values. Comparing to mean...\n",
      "[0]\tvalidation_0-error:0.391\n",
      "[1]\tvalidation_0-error:0.391\n",
      "[2]\tvalidation_0-error:0.38225\n",
      "[3]\tvalidation_0-error:0.382\n",
      "[4]\tvalidation_0-error:0.3791\n",
      "[5]\tvalidation_0-error:0.3768\n",
      "[6]\tvalidation_0-error:0.37915\n",
      "[7]\tvalidation_0-error:0.37535\n",
      "[8]\tvalidation_0-error:0.3778\n",
      "[9]\tvalidation_0-error:0.37395\n",
      "[10]\tvalidation_0-error:0.37455\n",
      "[11]\tvalidation_0-error:0.3744\n",
      "[12]\tvalidation_0-error:0.3729\n",
      "[13]\tvalidation_0-error:0.3731\n",
      "[14]\tvalidation_0-error:0.37325\n",
      "[15]\tvalidation_0-error:0.37225\n",
      "[16]\tvalidation_0-error:0.3733\n",
      "[17]\tvalidation_0-error:0.37195\n",
      "[18]\tvalidation_0-error:0.37185\n",
      "[19]\tvalidation_0-error:0.3718\n",
      "[20]\tvalidation_0-error:0.3721\n",
      "[21]\tvalidation_0-error:0.3725\n",
      "[22]\tvalidation_0-error:0.3723\n",
      "[23]\tvalidation_0-error:0.3725\n",
      "[24]\tvalidation_0-error:0.3726\n",
      "[25]\tvalidation_0-error:0.37225\n",
      "[26]\tvalidation_0-error:0.3724\n",
      "[27]\tvalidation_0-error:0.37235\n",
      "[28]\tvalidation_0-error:0.37205\n",
      "[29]\tvalidation_0-error:0.3715\n",
      "[30]\tvalidation_0-error:0.3715\n",
      "[31]\tvalidation_0-error:0.37155\n",
      "[32]\tvalidation_0-error:0.37155\n",
      "[33]\tvalidation_0-error:0.37155\n",
      "[34]\tvalidation_0-error:0.3729\n",
      "[35]\tvalidation_0-error:0.3728\n",
      "[36]\tvalidation_0-error:0.37275\n",
      "[37]\tvalidation_0-error:0.373\n",
      "[38]\tvalidation_0-error:0.3729\n",
      "[39]\tvalidation_0-error:0.37285\n",
      "[40]\tvalidation_0-error:0.37285\n",
      "[41]\tvalidation_0-error:0.373\n",
      "[42]\tvalidation_0-error:0.373\n",
      "[43]\tvalidation_0-error:0.373\n",
      "[44]\tvalidation_0-error:0.37295\n",
      "[45]\tvalidation_0-error:0.37295\n",
      "[46]\tvalidation_0-error:0.3728\n",
      "[47]\tvalidation_0-error:0.3728\n",
      "[48]\tvalidation_0-error:0.3728\n",
      "[49]\tvalidation_0-error:0.3728\n",
      "[50]\tvalidation_0-error:0.3728\n",
      "[51]\tvalidation_0-error:0.3728\n",
      "[52]\tvalidation_0-error:0.3728\n",
      "[53]\tvalidation_0-error:0.3728\n",
      "[54]\tvalidation_0-error:0.3728\n",
      "[55]\tvalidation_0-error:0.37285\n",
      "[56]\tvalidation_0-error:0.3729\n",
      "[57]\tvalidation_0-error:0.3729\n",
      "[58]\tvalidation_0-error:0.3729\n",
      "[59]\tvalidation_0-error:0.3729\n",
      "[60]\tvalidation_0-error:0.3729\n",
      "[61]\tvalidation_0-error:0.3729\n",
      "[62]\tvalidation_0-error:0.3729\n",
      "[63]\tvalidation_0-error:0.3729\n",
      "[64]\tvalidation_0-error:0.3729\n",
      "[65]\tvalidation_0-error:0.3729\n",
      "[66]\tvalidation_0-error:0.3729\n",
      "[67]\tvalidation_0-error:0.3729\n",
      "[68]\tvalidation_0-error:0.3729\n",
      "[69]\tvalidation_0-error:0.3729\n",
      "[70]\tvalidation_0-error:0.3729\n",
      "[71]\tvalidation_0-error:0.3729\n",
      "[72]\tvalidation_0-error:0.3729\n",
      "[73]\tvalidation_0-error:0.3729\n",
      "[74]\tvalidation_0-error:0.3729\n",
      "[75]\tvalidation_0-error:0.3729\n",
      "[76]\tvalidation_0-error:0.3729\n",
      "[77]\tvalidation_0-error:0.3729\n",
      "[78]\tvalidation_0-error:0.3729\n",
      "[79]\tvalidation_0-error:0.3729\n",
      "[80]\tvalidation_0-error:0.3729\n",
      "[81]\tvalidation_0-error:0.3729\n",
      "[82]\tvalidation_0-error:0.3729\n",
      "[83]\tvalidation_0-error:0.3729\n",
      "[84]\tvalidation_0-error:0.3728\n",
      "[85]\tvalidation_0-error:0.3728\n",
      "[86]\tvalidation_0-error:0.3728\n",
      "[87]\tvalidation_0-error:0.3728\n",
      "[88]\tvalidation_0-error:0.37285\n",
      "[89]\tvalidation_0-error:0.37285\n",
      "[90]\tvalidation_0-error:0.37285\n",
      "[91]\tvalidation_0-error:0.3729\n",
      "[92]\tvalidation_0-error:0.3729\n",
      "[93]\tvalidation_0-error:0.3729\n",
      "[94]\tvalidation_0-error:0.3729\n",
      "[95]\tvalidation_0-error:0.3729\n",
      "[96]\tvalidation_0-error:0.3729\n",
      "[97]\tvalidation_0-error:0.37285\n",
      "[98]\tvalidation_0-error:0.3729\n",
      "[99]\tvalidation_0-error:0.3729\n"
     ]
    },
    {
     "data": {
      "text/plain": [
       "0.49195"
      ]
     },
     "execution_count": 51,
     "metadata": {},
     "output_type": "execute_result"
    }
   ],
   "source": [
    "y = FakeDataEval(real['num'], fake['num'], 'MktFare', source='real')\n",
    "y.fit()\n",
    "y.score()"
   ]
  },
  {
   "cell_type": "code",
   "execution_count": 52,
   "metadata": {},
   "outputs": [
    {
     "name": "stdout",
     "output_type": "stream",
     "text": [
      "Label has more than 2 values. Comparing to mean...\n",
      "[0]\tvalidation_0-error:0.1706\n",
      "[1]\tvalidation_0-error:0.1706\n",
      "[2]\tvalidation_0-error:0.1673\n",
      "[3]\tvalidation_0-error:0.1694\n",
      "[4]\tvalidation_0-error:0.17225\n",
      "[5]\tvalidation_0-error:0.16685\n",
      "[6]\tvalidation_0-error:0.1684\n",
      "[7]\tvalidation_0-error:0.17105\n",
      "[8]\tvalidation_0-error:0.16945\n",
      "[9]\tvalidation_0-error:0.1678\n",
      "[10]\tvalidation_0-error:0.1695\n",
      "[11]\tvalidation_0-error:0.16795\n",
      "[12]\tvalidation_0-error:0.1665\n",
      "[13]\tvalidation_0-error:0.1623\n",
      "[14]\tvalidation_0-error:0.1585\n",
      "[15]\tvalidation_0-error:0.1585\n",
      "[16]\tvalidation_0-error:0.1585\n",
      "[17]\tvalidation_0-error:0.15775\n",
      "[18]\tvalidation_0-error:0.15445\n",
      "[19]\tvalidation_0-error:0.15125\n",
      "[20]\tvalidation_0-error:0.1502\n",
      "[21]\tvalidation_0-error:0.14725\n",
      "[22]\tvalidation_0-error:0.1479\n",
      "[23]\tvalidation_0-error:0.14665\n",
      "[24]\tvalidation_0-error:0.1467\n",
      "[25]\tvalidation_0-error:0.14495\n",
      "[26]\tvalidation_0-error:0.14355\n",
      "[27]\tvalidation_0-error:0.14285\n",
      "[28]\tvalidation_0-error:0.1421\n",
      "[29]\tvalidation_0-error:0.14005\n",
      "[30]\tvalidation_0-error:0.1401\n",
      "[31]\tvalidation_0-error:0.1375\n",
      "[32]\tvalidation_0-error:0.13725\n",
      "[33]\tvalidation_0-error:0.1341\n",
      "[34]\tvalidation_0-error:0.1333\n",
      "[35]\tvalidation_0-error:0.13275\n",
      "[36]\tvalidation_0-error:0.13145\n",
      "[37]\tvalidation_0-error:0.1317\n",
      "[38]\tvalidation_0-error:0.131\n",
      "[39]\tvalidation_0-error:0.1307\n",
      "[40]\tvalidation_0-error:0.13015\n",
      "[41]\tvalidation_0-error:0.13035\n",
      "[42]\tvalidation_0-error:0.12925\n",
      "[43]\tvalidation_0-error:0.1284\n",
      "[44]\tvalidation_0-error:0.1279\n",
      "[45]\tvalidation_0-error:0.1282\n",
      "[46]\tvalidation_0-error:0.1272\n",
      "[47]\tvalidation_0-error:0.1273\n",
      "[48]\tvalidation_0-error:0.12665\n",
      "[49]\tvalidation_0-error:0.1263\n",
      "[50]\tvalidation_0-error:0.1255\n",
      "[51]\tvalidation_0-error:0.12495\n",
      "[52]\tvalidation_0-error:0.1245\n",
      "[53]\tvalidation_0-error:0.1237\n",
      "[54]\tvalidation_0-error:0.124\n",
      "[55]\tvalidation_0-error:0.1239\n",
      "[56]\tvalidation_0-error:0.124\n",
      "[57]\tvalidation_0-error:0.1238\n",
      "[58]\tvalidation_0-error:0.12295\n",
      "[59]\tvalidation_0-error:0.1225\n",
      "[60]\tvalidation_0-error:0.12215\n",
      "[61]\tvalidation_0-error:0.1222\n",
      "[62]\tvalidation_0-error:0.12235\n",
      "[63]\tvalidation_0-error:0.1222\n",
      "[64]\tvalidation_0-error:0.1219\n",
      "[65]\tvalidation_0-error:0.1217\n",
      "[66]\tvalidation_0-error:0.1218\n",
      "[67]\tvalidation_0-error:0.1216\n",
      "[68]\tvalidation_0-error:0.12155\n",
      "[69]\tvalidation_0-error:0.12175\n",
      "[70]\tvalidation_0-error:0.12115\n",
      "[71]\tvalidation_0-error:0.1207\n",
      "[72]\tvalidation_0-error:0.12065\n",
      "[73]\tvalidation_0-error:0.11985\n",
      "[74]\tvalidation_0-error:0.11975\n",
      "[75]\tvalidation_0-error:0.1191\n",
      "[76]\tvalidation_0-error:0.1188\n",
      "[77]\tvalidation_0-error:0.11845\n",
      "[78]\tvalidation_0-error:0.1182\n",
      "[79]\tvalidation_0-error:0.1178\n",
      "[80]\tvalidation_0-error:0.1179\n",
      "[81]\tvalidation_0-error:0.1169\n",
      "[82]\tvalidation_0-error:0.11705\n",
      "[83]\tvalidation_0-error:0.11655\n",
      "[84]\tvalidation_0-error:0.1164\n",
      "[85]\tvalidation_0-error:0.11585\n",
      "[86]\tvalidation_0-error:0.11565\n",
      "[87]\tvalidation_0-error:0.1157\n",
      "[88]\tvalidation_0-error:0.1155\n",
      "[89]\tvalidation_0-error:0.11575\n",
      "[90]\tvalidation_0-error:0.1156\n",
      "[91]\tvalidation_0-error:0.115\n",
      "[92]\tvalidation_0-error:0.1151\n",
      "[93]\tvalidation_0-error:0.115\n",
      "[94]\tvalidation_0-error:0.11485\n",
      "[95]\tvalidation_0-error:0.1145\n",
      "[96]\tvalidation_0-error:0.1146\n",
      "[97]\tvalidation_0-error:0.11425\n",
      "[98]\tvalidation_0-error:0.11425\n",
      "[99]\tvalidation_0-error:0.1138\n"
     ]
    },
    {
     "data": {
      "text/plain": [
       "0.49473"
      ]
     },
     "execution_count": 52,
     "metadata": {},
     "output_type": "execute_result"
    }
   ],
   "source": [
    "y = FakeDataEval(real['num'], fake['num'], 'MktFare')\n",
    "y.fit()\n",
    "y.score()"
   ]
  },
  {
   "cell_type": "code",
   "execution_count": null,
   "metadata": {},
   "outputs": [],
   "source": []
  }
 ],
 "metadata": {
  "kernelspec": {
   "display_name": "base",
   "language": "python",
   "name": "base"
  },
  "language_info": {
   "codemirror_mode": {
    "name": "ipython",
    "version": 3
   },
   "file_extension": ".py",
   "mimetype": "text/x-python",
   "name": "python",
   "nbconvert_exporter": "python",
   "pygments_lexer": "ipython3",
   "version": "3.7.3"
  }
 },
 "nbformat": 4,
 "nbformat_minor": 4
}
